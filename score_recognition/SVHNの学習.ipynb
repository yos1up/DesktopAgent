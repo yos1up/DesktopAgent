{
 "cells": [
  {
   "cell_type": "code",
   "execution_count": 1,
   "metadata": {
    "collapsed": true
   },
   "outputs": [],
   "source": [
    "import numpy as np\n",
    "import pandas as pd\n",
    "import matplotlib.pyplot as plt\n",
    "from tqdm import tqdm_notebook as tqdm\n",
    "from collections import Counter, defaultdict, deque\n",
    "import os, sys, glob, copy, json, time, pickle"
   ]
  },
  {
   "cell_type": "code",
   "execution_count": 2,
   "metadata": {
    "collapsed": true
   },
   "outputs": [],
   "source": [
    "from chainer import Chain, ChainList, cuda, gradient_check, Function, Link, \\\n",
    "    optimizers, serializers, utils, Variable, dataset, datasets, using_config, training, iterators\n",
    "from chainer.training import extensions\n",
    "from chainer import functions as F\n",
    "from chainer import links as L"
   ]
  },
  {
   "cell_type": "code",
   "execution_count": 180,
   "metadata": {
    "collapsed": true
   },
   "outputs": [],
   "source": [
    "# https://static.googleusercontent.com/media/research.google.com/ja//pubs/archive/42241.pdf に従ったネットワーク．\n",
    "class Net(Chain):\n",
    "    def __init__(self):\n",
    "        super().__init__()\n",
    "        with self.init_scope():\n",
    "            # (*, 3, 30, 70)\n",
    "            self.add_link('b1', L.BatchNormalization(3))\n",
    "            self.add_link('c1', L.Convolution2D(3, 16, ksize=3, stride=2, pad=1))\n",
    "            self.add_link('b2', L.BatchNormalization(16))\n",
    "            self.add_link('c2', L.Convolution2D(16, 64, ksize=3, stride=2, pad=1))\n",
    "            self.add_link('b3', L.BatchNormalization(64))\n",
    "            self.add_link('c3', L.Convolution2D(64, 256, ksize=3, stride=2, pad=1))\n",
    "            self.add_link('b4', L.BatchNormalization(256))\n",
    "            self.add_link('c4', L.Convolution2D(256, 1024, ksize=3, stride=2, pad=1))\n",
    "            self.add_link('b5', L.BatchNormalization(1024))\n",
    "            self.add_link('c5', L.Convolution2D(1024, 4096, ksize=3, stride=2, pad=1))\n",
    "            self.add_link('dl', L.Linear(4096, 7))\n",
    "            self.add_link('d0', L.Linear(4096, 10))\n",
    "            self.add_link('d1', L.Linear(4096, 10))\n",
    "            self.add_link('d2', L.Linear(4096, 10))\n",
    "            self.add_link('d3', L.Linear(4096, 10))\n",
    "            self.add_link('d4', L.Linear(4096, 10))\n",
    "\n",
    "    def __call__(self, x):\n",
    "        '''\n",
    "        x <Variable>\n",
    "        returns <Variable>\n",
    "        '''\n",
    "        assert x.shape[1:] == (3, 30, 70)\n",
    "        h = x\n",
    "        h = self.b1(h)\n",
    "        h = F.relu(self.c1(h))\n",
    "        h = self.b2(h)\n",
    "        h = F.relu(self.c2(h))\n",
    "        h = self.b3(h)\n",
    "        h = F.relu(self.c3(h))\n",
    "        h = self.b4(h)\n",
    "        h = F.relu(self.c4(h))\n",
    "        h = self.b5(h)\n",
    "        h = F.relu(self.c5(h))\n",
    "        assert h.shape[1:] == (4096, 1, 3)\n",
    "        h = F.mean(F.mean(h, axis=3), axis=2) \n",
    "        return [self.dl(h), self.d0(h), self.d1(h), self.d2(h), self.d3(h), self.d4(h)] \n",
    "\n",
    "xp = np\n",
    "\n",
    "def lossfun(x, t):\n",
    "    loss = 0\n",
    "    # 桁数\n",
    "    t_dl = Variable(xp.minimum(6, xp.array(list(map(len, t)))).astype(xp.int32))\n",
    "    loss += F.softmax_cross_entropy(x[0], t_dl)\n",
    "    # 各桁の値\n",
    "    for i in range(5):\n",
    "        t_di = Variable(xp.array([int(_[i]) if len(_) > i else -1 for _ in t]).astype(xp.int32))\n",
    "        loss += F.softmax_cross_entropy(x[1+i], t_di)\n",
    "    return loss\n",
    "    \n",
    "def accfun(x, t):\n",
    "    # 桁数\n",
    "    t_dl = xp.minimum(6, xp.array(list(map(len, t))))\n",
    "    accflg = xp.argmax(x[0].data, axis=1) == t_dl\n",
    "\n",
    "    # 各桁の値\n",
    "    for i in range(5):\n",
    "        t_di = xp.array([int(_[i]) if len(_) > i else -1 for _ in t])\n",
    "        x_di = xp.argmax(x[1+i].data, axis=1)\n",
    "        accflg = xp.logical_and(accflg, xp.logical_or(x_di == t_di, t_di == -1))\n",
    "    return xp.count_nonzero(accflg) / len(accflg)"
   ]
  },
  {
   "cell_type": "code",
   "execution_count": 181,
   "metadata": {
    "collapsed": false
   },
   "outputs": [],
   "source": [
    "net = Net()"
   ]
  },
  {
   "cell_type": "code",
   "execution_count": 182,
   "metadata": {
    "collapsed": false
   },
   "outputs": [
    {
     "name": "stdout",
     "output_type": "stream",
     "text": [
      "CPU times: user 128 ms, sys: 13.7 ms, total: 142 ms\n",
      "Wall time: 81.3 ms\n"
     ]
    }
   ],
   "source": [
    "%%time\n",
    "res = net(Variable(np.random.randn(2, 3, 30, 70).astype(np.float32)))"
   ]
  },
  {
   "cell_type": "code",
   "execution_count": 118,
   "metadata": {
    "collapsed": false
   },
   "outputs": [],
   "source": [
    "# 参考： https://stackoverflow.com/questions/41176258/h5py-access-data-in-datasets-in-svhn\n",
    "import h5py\n",
    "def get_box_data(index, hdf5_data):\n",
    "    \"\"\"\n",
    "    get `left, top, width, height` of each picture\n",
    "    :param index:\n",
    "    :param hdf5_data:\n",
    "    :return:\n",
    "    \"\"\"\n",
    "    meta_data = dict()\n",
    "    meta_data['height'] = []\n",
    "    meta_data['label'] = []\n",
    "    meta_data['left'] = []\n",
    "    meta_data['top'] = []\n",
    "    meta_data['width'] = []\n",
    "\n",
    "    def print_attrs(name, obj):\n",
    "        vals = []\n",
    "        if obj.shape[0] == 1:\n",
    "            vals.append(obj[0][0])\n",
    "        else:\n",
    "            for k in range(obj.shape[0]):\n",
    "                vals.append(int(hdf5_data[obj[k][0]][0][0]))\n",
    "        meta_data[name] = vals\n",
    "\n",
    "    box = hdf5_data['/digitStruct/bbox'][index]\n",
    "    hdf5_data[box[0]].visititems(print_attrs)\n",
    "    return meta_data\n",
    "\n",
    "def get_name(index, hdf5_data):\n",
    "    name = hdf5_data['/digitStruct/name']\n",
    "    return ''.join([chr(v[0]) for v in hdf5_data[name[index][0]].value])\n",
    "\n",
    "def load_digitStruct(mat_filename):\n",
    "    ret = {'name': [], 'bbox':[]}\n",
    "    with h5py.File(mat_filename, 'r') as f:\n",
    "        size = f['/digitStruct/name'].size\n",
    "        for _i in tqdm(range(size)):\n",
    "            ret['name'].append(get_name(_i, f))\n",
    "            ret['bbox'].append(get_box_data(_i, f))\n",
    "    return ret\n",
    "\n",
    "from pathlib import Path\n",
    "def load_svhn(path, image_size=[70, 30]):\n",
    "    print('Loading digitStruct.mat...', end='')\n",
    "    dsm = load_digitStruct(str(Path(path) / 'digitStruct.mat'))\n",
    "    print('Done.')\n",
    "    print('Loading images...', end='')\n",
    "    xs = []\n",
    "    for name in tqdm(dsm['name']):\n",
    "        xs.append(np.array(Image.open(str(Path(path) / name)).resize(image_size)))\n",
    "    xs = np.asarray(xs, dtype=np.float32).transpose([0, 3, 1, 2]) / 256  # (batch, color, height, width)\n",
    "    ys = [''.join(map(str, map(int, b['label']))) for b in dsm['bbox']]\n",
    "    return {\n",
    "        \"xs\": xs,\n",
    "        \"ys\": ys,\n",
    "        \"digitStruct\": dsm\n",
    "    }"
   ]
  },
  {
   "cell_type": "code",
   "execution_count": 106,
   "metadata": {
    "collapsed": true
   },
   "outputs": [],
   "source": [
    "def concat_image(images, axis=0):\n",
    "    if axis is None: # 2-dim tiling\n",
    "        return concat_image([concat_image(row, axis=1) for row in images], axis=0)\n",
    "    assert axis in [0, 1]\n",
    "    if axis == 1:\n",
    "        return concat_image([im.transpose(Image.TRANSPOSE) for im in images], axis=0).transpose(Image.TRANSPOSE)  \n",
    "    # case with axis == 0\n",
    "    ws = np.array([im.width for im in images])\n",
    "    hs = np.array([im.height for im in images])\n",
    "    ret = Image.new('RGB', (np.max(ws), np.sum(hs)))\n",
    "    offs = 0\n",
    "    for im in images:\n",
    "        ret.paste(im, (0, offs))\n",
    "        offs += im.height\n",
    "    return ret"
   ]
  },
  {
   "cell_type": "code",
   "execution_count": 119,
   "metadata": {
    "collapsed": false
   },
   "outputs": [
    {
     "name": "stdout",
     "output_type": "stream",
     "text": [
      "Loading digitStruct.mat..."
     ]
    },
    {
     "name": "stderr",
     "output_type": "stream",
     "text": [
      "/Users/yoshidayuuki/.pyenv/versions/anaconda3-4.2.0/lib/python3.5/site-packages/h5py/_hl/dataset.py:313: H5pyDeprecationWarning: dataset.value has been deprecated. Use dataset[()] instead.\n",
      "  \"Use dataset[()] instead.\", H5pyDeprecationWarning)\n"
     ]
    },
    {
     "name": "stdout",
     "output_type": "stream",
     "text": [
      "Done.\n",
      "Loading images..."
     ]
    }
   ],
   "source": [
    "data_train = load_svhn('/Users/yoshidayuuki/Downloads/SVHN/train')"
   ]
  },
  {
   "cell_type": "code",
   "execution_count": 173,
   "metadata": {
    "collapsed": false
   },
   "outputs": [
    {
     "name": "stdout",
     "output_type": "stream",
     "text": [
      "Loading digitStruct.mat..."
     ]
    },
    {
     "name": "stderr",
     "output_type": "stream",
     "text": [
      "/Users/yoshidayuuki/.pyenv/versions/anaconda3-4.2.0/lib/python3.5/site-packages/h5py/_hl/dataset.py:313: H5pyDeprecationWarning: dataset.value has been deprecated. Use dataset[()] instead.\n",
      "  \"Use dataset[()] instead.\", H5pyDeprecationWarning)\n"
     ]
    },
    {
     "name": "stdout",
     "output_type": "stream",
     "text": [
      "Done.\n",
      "Loading images..."
     ]
    }
   ],
   "source": [
    "data_test = load_svhn('/Users/yoshidayuuki/Downloads/SVHN/test/')"
   ]
  },
  {
   "cell_type": "code",
   "execution_count": 183,
   "metadata": {
    "collapsed": false
   },
   "outputs": [
    {
     "data": {
      "text/plain": [
       "((33402, 3, 30, 70), (13068, 3, 30, 70))"
      ]
     },
     "execution_count": 183,
     "metadata": {},
     "output_type": "execute_result"
    }
   ],
   "source": [
    "data_train['xs'].shape, data_test['xs'].shape"
   ]
  },
  {
   "cell_type": "code",
   "execution_count": 207,
   "metadata": {
    "collapsed": true
   },
   "outputs": [],
   "source": [
    "def get_trainer(\n",
    "        model_loss : Chain,\n",
    "        data_train : datasets,\n",
    "        data_test : datasets =None,\n",
    "        num=(5, 'epoch'),\n",
    "        batch_size=100,\n",
    "        earlystop_patience=None,\n",
    "        restore_best_model=False,\n",
    "        device=-1,\n",
    "        out_directory='result',\n",
    "        converter=dataset.concat_examples,\n",
    "        log_trigger=(1, 'epoch')):\n",
    "    \n",
    "    if device >= 0:\n",
    "        cuda.get_device(device).use()  # Make a specified GPU current\n",
    "        model_loss.to_gpu() \n",
    "    opt = optimizers.Adam()\n",
    "    opt.setup(model_loss)\n",
    "    itr_train = iterators.SerialIterator(data_train, shuffle=True, batch_size=batch_size)\n",
    "    itr_test = iterators.SerialIterator(data_test, shuffle=False, repeat=False, batch_size=batch_size)\n",
    "    upd = training.StandardUpdater(itr_train, opt, device=device, converter=converter)\n",
    "    \n",
    "    stop_trigger = num\n",
    "    if earlystop_patience is not None:\n",
    "        stop_trigger = training.triggers.EarlyStoppingTrigger(monitor='validation/main/loss', patients=earlystop_patience, max_trigger=stop_trigger)\n",
    "    trn = training.Trainer(upd, stop_trigger, out=out_directory)\n",
    "\n",
    "    trn.extend(extensions.LogReport(trigger=log_trigger))\n",
    "    trn.extend(extensions.snapshot(filename='snapshot_epoch-{.updater.epoch}'))\n",
    "    trn.extend(extensions.snapshot_object(model_loss, filename='model_epoch-{.updater.epoch}'))\n",
    "    if data_test is not None:\n",
    "        trn.extend(extensions.Evaluator(itr_test, model_loss, device=device, converter=converter))\n",
    "    trn.extend(extensions.PrintReport(['epoch', 'iteration', 'main/loss', 'main/accuracy', 'validation/main/loss', 'validation/main/accuracy', 'elapsed_time']), trigger=log_trigger)\n",
    "    trn.extend(extensions.PlotReport(['main/loss', 'validation/main/loss'], x_key='epoch', file_name='loss.png'))\n",
    "    trn.extend(extensions.PlotReport(['main/accuracy', 'validation/main/accuracy'], x_key='epoch', file_name='accuracy.png'))\n",
    "    trn.extend(extensions.dump_graph('main/loss'))\n",
    "    \n",
    "    if restore_best_model:\n",
    "        def _restore_best_model(trn):\n",
    "            log = trn.get_extension('LogReport').log\n",
    "            best_epoch = log[np.argmin(np.array([l['validation/main/loss'] for l in log]))]['epoch']\n",
    "            print(\"Best epoch:\", best_epoch)\n",
    "            path = out_directory + \"/\" + 'model_epoch-' + str(best_epoch)\n",
    "            try:\n",
    "                serializers.load_npz(path, trn.updater.get_optimizer('main').target)\n",
    "                print(\"Restoring best model done ({})\".format(path))\n",
    "            except FileNotFoundError:\n",
    "                print(\"Restoring best model failed (File not found: {})\".format(path))\n",
    "        _stop_trigger = copy.deepcopy(stop_trigger) # stop_trigger は「ログが溜まらない間」に複数回呼び出すことを想定されていない（2回目以降はFalseを返す）のでコピーを作成．\n",
    "        trn.extend(_restore_best_model, trigger=_stop_trigger)\n",
    "    return trn\n"
   ]
  },
  {
   "cell_type": "code",
   "execution_count": 202,
   "metadata": {
    "collapsed": true
   },
   "outputs": [],
   "source": [
    "tds_train = datasets.TupleDataset(data_train['xs'], data_train['ys'])\n",
    "tds_test = datasets.TupleDataset(data_test['xs'], data_test['ys'])"
   ]
  },
  {
   "cell_type": "code",
   "execution_count": 205,
   "metadata": {
    "collapsed": false
   },
   "outputs": [],
   "source": [
    "net = Net()\n",
    "model_loss = L.Classifier(net, lossfun=lossfun, accfun=accfun)\n",
    "def converter(list_of_tuple, device=-1):\n",
    "    xs, ys = zip(*list_of_tuple)\n",
    "    return np.asarray(xs), ys    \n",
    "trn = get_trainer(model_loss, tds_train, tds_test, device=-1, out_directory='_tmp', converter=converter, log_trigger=(1, 'iteration'))"
   ]
  },
  {
   "cell_type": "code",
   "execution_count": 206,
   "metadata": {
    "collapsed": false
   },
   "outputs": [
    {
     "name": "stdout",
     "output_type": "stream",
     "text": [
      "epoch       iteration   main/loss   main/accuracy  validation/main/loss  validation/main/accuracy  elapsed_time\n",
      "\u001b[J0           1           14.1881     0                                                              3.03297       \n",
      "\u001b[J0           2           28.273      0.02                                                           6.33769       \n",
      "\u001b[J0           3           26.8443     0.02                                                           9.24161       \n",
      "\u001b[J0           4           21.6807     0                                                              12.2964       \n",
      "\u001b[J0           5           15.1948     0.02                                                           15.0016       \n",
      "\u001b[J0           6           20.5335     0.01                                                           18.0522       \n",
      "\u001b[J0           7           13.88       0.02                                                           20.6616       \n",
      "\u001b[J0           8           22.0089     0                                                              23.4474       \n",
      "\u001b[J0           9           13.6629     0.01                                                           26.014        \n",
      "\u001b[J0           10          18.3849     0.03                                                           28.5065       \n",
      "\u001b[J0           11          21.1126     0.01                                                           30.8333       \n",
      "\u001b[J0           12          11.703      0.01                                                           33.8399       \n",
      "\u001b[J0           13          22.6483     0.01                                                           36.2473       \n",
      "\u001b[J0           14          14.1928     0.02                                                           38.9025       \n",
      "\u001b[J0           15          14.0903     0.02                                                           41.3812       \n",
      "\u001b[J0           16          11.4719     0.01                                                           44.0276       \n",
      "\u001b[J0           17          33.8147     0.03                                                           46.6946       \n",
      "\u001b[J0           18          24.2755     0                                                              49.0401       \n",
      "\u001b[J0           19          13.7605     0.01                                                           51.8135       \n",
      "\u001b[J0           20          29.2982     0.01                                                           54.5103       \n",
      "\u001b[J0           21          14.0965     0                                                              57.2997       \n",
      "\u001b[J0           22          12.304      0.01                                                           59.7889       \n",
      "\u001b[J0           23          12.5343     0.02                                                           62.4801       \n",
      "\u001b[J0           24          18.6057     0.02                                                           65.0946       \n",
      "\u001b[J0           25          13.1375     0.01                                                           67.5003       \n",
      "\u001b[J0           26          11.3068     0.01                                                           70.1901       \n",
      "\u001b[J0           27          14.516      0.03                                                           72.6948       \n",
      "\u001b[J0           28          13.7465     0.02                                                           75.5374       \n",
      "\u001b[J0           29          12.0317     0.01                                                           77.9567       \n",
      "\u001b[J0           30          13.6804     0.02                                                           80.4405       \n",
      "\u001b[J0           31          13.9767     0.02                                                           82.8834       \n",
      "\u001b[J0           32          9.80848     0.06                                                           85.2612       \n",
      "\u001b[J0           33          10.8177     0.03                                                           88.4142       \n",
      "\u001b[J0           34          12.3631     0.01                                                           90.8514       \n",
      "\u001b[J0           35          13.6694     0                                                              93.6899       \n",
      "\u001b[J0           36          13.2954     0.02                                                           96.22         \n",
      "\u001b[J0           37          11.1832     0                                                              98.7007       \n",
      "\u001b[J0           38          11.0268     0.01                                                           101.137       \n",
      "\u001b[J0           39          10.5719     0.04                                                           103.706       \n",
      "\u001b[J0           40          15.4583     0.04                                                           106.496       \n",
      "\u001b[J0           41          12.1554     0.03                                                           108.969       \n",
      "\u001b[J0           42          10.3861     0.02                                                           111.546       \n",
      "\u001b[J0           43          12.0539     0.01                                                           113.965       \n",
      "\u001b[J0           44          12.1327     0.01                                                           116.427       \n",
      "\u001b[J0           45          10.3058     0.03                                                           118.871       \n",
      "\u001b[J0           46          13.5249     0                                                              121.208       \n",
      "\u001b[J0           47          10.189      0.01                                                           123.913       \n",
      "\u001b[J0           48          15.0913     0                                                              126.462       \n",
      "\u001b[J0           49          10.2353     0                                                              128.981       \n",
      "\u001b[J0           50          10.7142     0.02                                                           131.582       \n",
      "\u001b[J0           51          11.4186     0                                                              133.908       \n",
      "\u001b[J0           52          13.9984     0.03                                                           136.569       \n",
      "\u001b[J0           53          11.1482     0.03                                                           139.04        \n",
      "\u001b[J0           54          12.72       0.01                                                           141.613       \n",
      "\u001b[J0           55          11.8024     0                                                              144.105       \n",
      "\u001b[J0           56          12.9293     0.03                                                           146.513       \n",
      "\u001b[J0           57          10.2959     0.02                                                           148.969       \n",
      "\u001b[J0           58          12.6078     0                                                              151.307       \n",
      "\u001b[J0           59          9.87858     0.01                                                           153.92        \n",
      "\u001b[J0           60          10.0573     0.01                                                           156.455       \n",
      "\u001b[J0           61          10.3262     0                                                              158.953       \n",
      "\u001b[J0           62          12.2451     0.01                                                           161.458       \n",
      "\u001b[J0           63          11.4841     0.01                                                           163.904       \n",
      "\u001b[J0           64          10.2259     0.01                                                           166.521       \n",
      "\u001b[J0           65          13.0147     0                                                              169.025       \n",
      "\u001b[J0           66          10.3452     0.02                                                           171.457       \n",
      "\u001b[J0           67          10.0762     0.02                                                           173.935       \n",
      "\u001b[J0           68          10.7837     0.01                                                           176.324       \n",
      "\u001b[J0           69          16.0956     0.01                                                           179.058       \n",
      "\u001b[J0           70          10.8786     0.01                                                           181.797       \n",
      "\u001b[J0           71          12.949      0.01                                                           184.409       \n",
      "\u001b[J0           72          12.2842     0                                                              187.617       \n",
      "\u001b[J0           73          11.9388     0                                                              190.25        \n",
      "\u001b[J0           74          15.7142     0.01                                                           192.725       \n",
      "\u001b[J0           75          11.1352     0.02                                                           195.094       \n",
      "\u001b[J0           76          12.5025     0.02                                                           197.569       \n",
      "\u001b[J0           77          11.5692     0.03                                                           199.885       \n",
      "\u001b[J0           78          10.0769     0.02                                                           202.434       \n",
      "\u001b[J0           79          10.0783     0.01                                                           204.848       \n",
      "\u001b[J0           80          9.68957     0                                                              207.306       \n",
      "\u001b[J0           81          11.647      0.01                                                           209.721       \n",
      "\u001b[J0           82          11.064      0.02                                                           212.041       \n",
      "\u001b[J0           83          11.2618     0                                                              214.632       \n",
      "\u001b[J0           84          11.6447     0.04                                                           217.148       \n",
      "\u001b[J0           85          10.3716     0.02                                                           219.537       \n",
      "\u001b[J0           86          12.5757     0                                                              221.947       \n",
      "\u001b[J0           87          13.2196     0                                                              224.269       \n",
      "\u001b[J0           88          12.5219     0.01                                                           226.898       \n",
      "\u001b[J0           89          11.6358     0.01                                                           229.34        \n",
      "\u001b[J0           90          11.2489     0.01                                                           231.935       \n",
      "\u001b[J0           91          11.3243     0                                                              234.959       \n",
      "\u001b[J0           92          9.93029     0.01                                                           237.372       \n",
      "\u001b[J0           93          9.96119     0.01                                                           239.982       \n",
      "\u001b[J0           94          14.0842     0                                                              242.538       \n",
      "\u001b[J0           95          10.9193     0.02                                                           245.113       \n",
      "\u001b[J0           96          10.9233     0                                                              247.579       \n",
      "\u001b[J0           97          11.0757     0.02                                                           250.033       \n",
      "\u001b[J0           98          9.60658     0.01                                                           252.387       \n",
      "\u001b[J0           99          10.398      0.01                                                           254.751       \n",
      "\u001b[J0           100         10.1822     0.01                                                           257.601       \n",
      "\u001b[J0           101         12.2152     0.03                                                           260.031       \n",
      "\u001b[J0           102         12.2404     0.02                                                           262.461       \n",
      "\u001b[J0           103         10.3823     0.02                                                           264.895       \n",
      "\u001b[J0           104         11.2096     0.01                                                           267.227       \n",
      "\u001b[J0           105         13.83       0.02                                                           269.896       \n",
      "\u001b[J0           106         9.5055      0.02                                                           272.318       \n",
      "\u001b[J0           107         11.0052     0.02                                                           274.757       \n",
      "\u001b[J0           108         13.2831     0                                                              277.19        \n",
      "\u001b[J0           109         11.9093     0                                                              279.591       \n",
      "\u001b[J0           110         9.34543     0.02                                                           282.291       \n",
      "\u001b[J0           111         10.0289     0.02                                                           284.708       \n",
      "\u001b[J0           112         13.3101     0.01                                                           287.194       \n",
      "\u001b[J0           113         10.7497     0.01                                                           289.67        \n",
      "\u001b[J0           114         10.1382     0.01                                                           291.976       \n",
      "\u001b[J0           115         13.2586     0.01                                                           294.582       \n",
      "\u001b[J0           116         13.185      0.01                                                           297.135       \n",
      "\u001b[J0           117         13.653      0.01                                                           299.799       \n",
      "\u001b[J0           118         12.1566     0.01                                                           302.487       \n",
      "\u001b[J0           119         11.5856     0.03                                                           305           \n",
      "\u001b[J0           120         11.5007     0                                                              307.495       \n",
      "\u001b[J0           121         12.1971     0.01                                                           309.838       \n",
      "\u001b[J0           122         12.2181     0.02                                                           312.329       \n",
      "\u001b[J0           123         11.3987     0                                                              314.772       \n",
      "\u001b[J0           124         11.2074     0                                                              317.24        \n",
      "\u001b[J0           125         11.0431     0.01                                                           319.692       \n",
      "\u001b[J0           126         10.7484     0                                                              322           \n",
      "\u001b[J0           127         11.0531     0.02                                                           324.565       \n",
      "\u001b[J0           128         11.3536     0.03                                                           326.952       \n",
      "\u001b[J0           129         9.1132      0.01                                                           329.572       \n",
      "\u001b[J0           130         11.4969     0                                                              332.012       \n",
      "\u001b[J0           131         12.0842     0.01                                                           334.448       \n",
      "\u001b[J0           132         9.30656     0.01                                                           336.989       \n",
      "\u001b[J0           133         11.8661     0.01                                                           339.478       \n",
      "\u001b[J0           134         10.7782     0.02                                                           342.092       \n",
      "\u001b[J0           135         10.7286     0                                                              344.515       \n",
      "\u001b[J0           136         12.3195     0.02                                                           346.8         \n",
      "\u001b[J0           137         9.79387     0                                                              349.481       \n",
      "\u001b[J0           138         12.2121     0.03                                                           352.373       \n",
      "\u001b[J0           139         11.1644     0                                                              355.557       \n",
      "\u001b[J0           140         14.0277     0.02                                                           358.061       \n",
      "\u001b[J0           141         10.5714     0.02                                                           360.858       \n",
      "\u001b[J0           142         11.9012     0.02                                                           363.369       \n",
      "\u001b[J0           143         12.1727     0                                                              366.076       \n",
      "\u001b[J0           144         9.56078     0.01                                                           369.035       \n",
      "\u001b[J0           145         9.27329     0.01                                                           371.702       \n",
      "\u001b[J0           146         11.7201     0.01                                                           374.129       \n",
      "\u001b[J0           147         11.7044     0.02                                                           376.472       \n",
      "\u001b[J0           148         10.5818     0                                                              379.158       \n",
      "\u001b[J0           149         11.275      0                                                              381.628       \n",
      "\u001b[J0           150         10.6214     0.01                                                           384.271       \n",
      "\u001b[J0           151         9.59457     0.03                                                           386.677       \n",
      "\u001b[J0           152         9.91682     0.03                                                           388.986       \n",
      "\u001b[J0           153         10.7807     0.04                                                           391.62        \n",
      "\u001b[J0           154         12.0045     0                                                              394.086       \n",
      "\u001b[J0           155         9.06015     0                                                              396.67        \n",
      "\u001b[J0           156         10.1675     0.01                                                           399.093       \n",
      "\u001b[J0           157         12.5028     0.03                                                           401.621       \n",
      "\u001b[J0           158         9.65814     0.02                                                           404.145       \n",
      "\u001b[J0           159         9.55212     0.04                                                           406.51        \n",
      "\u001b[J0           160         12.7232     0.03                                                           409.288       \n",
      "\u001b[J0           161         10.4239     0.04                                                           411.765       \n",
      "\u001b[J0           162         11.7073     0.02                                                           414.282       \n",
      "\u001b[J0           163         9.99507     0.01                                                           416.704       \n",
      "\u001b[J0           164         12.2896     0.01                                                           419.056       \n",
      "\u001b[J0           165         10.5475     0                                                              421.859       \n",
      "\u001b[J0           166         11.0589     0.01                                                           424.35        \n",
      "\u001b[J0           167         11.2369     0.01                                                           426.915       \n",
      "\u001b[J0           168         13.6583     0.01                                                           429.356       \n",
      "\u001b[J0           169         13.6465     0                                                              431.879       \n",
      "\u001b[J0           170         10.9599     0.01                                                           434.287       \n",
      "\u001b[J0           171         11.4347     0.01                                                           436.554       \n",
      "\u001b[J0           172         11.5523     0.01                                                           439.116       \n",
      "\u001b[J0           173         11.8815     0                                                              441.536       \n",
      "\u001b[J0           174         10.9009     0.02                                                           444.025       \n",
      "\u001b[J0           175         12.8036     0                                                              446.414       \n",
      "\u001b[J0           176         10.5202     0.03                                                           448.73        \n",
      "\u001b[J0           177         11.2929     0                                                              451.31        \n",
      "\u001b[J0           178         14.3021     0.03                                                           453.923       \n",
      "\u001b[J0           179         10.0379     0.02                                                           456.507       \n",
      "\u001b[J0           180         11.346      0.04                                                           458.929       \n",
      "\u001b[J0           181         9.85386     0                                                              461.228       \n",
      "\u001b[J0           182         11.2345     0.02                                                           464.007       \n",
      "\u001b[J0           183         10.6501     0.01                                                           466.446       \n",
      "\u001b[J0           184         10.8179     0                                                              469.113       \n",
      "\u001b[J0           185         9.86824     0.02                                                           471.548       \n",
      "\u001b[J0           186         14.208      0.01                                                           474.094       \n",
      "\u001b[J0           187         11.7126     0.03                                                           476.503       \n",
      "\u001b[J0           188         9.71147     0.04                                                           478.81        \n",
      "\u001b[J0           189         11.7766     0.02                                                           481.494       \n",
      "\u001b[J0           190         10.5456     0.01                                                           484.142       \n",
      "\u001b[J0           191         10.3693     0.01                                                           486.67        \n",
      "\u001b[J0           192         11.3127     0.01                                                           489.123       \n",
      "\u001b[J0           193         13.2423     0.02                                                           491.444       \n",
      "\u001b[J0           194         11.5995     0.03                                                           494.16        \n",
      "\u001b[J0           195         10.0312     0.01                                                           496.725       \n",
      "\u001b[J0           196         10.1869     0.02                                                           499.338       \n",
      "\u001b[J0           197         9.8735      0.01                                                           501.791       \n",
      "\u001b[J0           198         10.6061     0.02                                                           504.362       \n",
      "\u001b[J0           199         10.4766     0.03                                                           506.836       \n",
      "\u001b[J0           200         10.3931     0.02                                                           509.11        \n",
      "\u001b[J0           201         10.5385     0.01                                                           511.647       \n",
      "\u001b[J0           202         9.92106     0.02                                                           514.22        \n",
      "\u001b[J0           203         14.3906     0.03                                                           516.737       \n",
      "\u001b[J0           204         10.354      0.01                                                           519.183       \n",
      "\u001b[J0           205         12.8284     0.02                                                           521.649       \n",
      "\u001b[J0           206         11.3146     0.04                                                           524.349       \n",
      "\u001b[J0           207         10.2615     0                                                              526.789       \n",
      "\u001b[J0           208         11.9955     0.01                                                           529.71        \n",
      "\u001b[J0           209         9.74197     0                                                              532.287       \n",
      "\u001b[J0           210         11.6711     0                                                              534.926       \n",
      "\u001b[J0           211         12.5552     0.02                                                           537.404       \n",
      "\u001b[J0           212         10.8743     0                                                              539.764       \n",
      "\u001b[J0           213         10.9656     0.02                                                           542.444       \n",
      "\u001b[J0           214         9.21761     0.01                                                           544.98        \n",
      "\u001b[J0           215         11.084      0.04                                                           547.607       \n",
      "\u001b[J0           216         11.941      0.02                                                           550.053       \n",
      "\u001b[J0           217         11.7253     0.01                                                           552.449       \n",
      "\u001b[J0           218         12.2094     0.01                                                           554.966       \n",
      "\u001b[J0           219         12.0324     0.01                                                           557.272       \n",
      "\u001b[J0           220         11.911      0.04                                                           559.907       \n",
      "\u001b[J0           221         10.7266     0.01                                                           562.363       \n",
      "\u001b[J0           222         10.0842     0.03                                                           564.891       \n",
      "\u001b[J0           223         11.2553     0.02                                                           567.444       \n",
      "\u001b[J0           224         12.5702     0.01                                                           569.799       \n",
      "\u001b[J0           225         13.3238     0.04                                                           572.527       \n",
      "\u001b[J0           226         10.2589     0.03                                                           575.181       \n",
      "\u001b[J0           227         11.6046     0.05                                                           578.003       \n",
      "\u001b[J0           228         11.6025     0.01                                                           580.492       \n",
      "\u001b[J0           229         10.6092     0.02                                                           582.995       \n",
      "\u001b[J0           230         11.7682     0.03                                                           585.477       \n",
      "\u001b[J0           231         10.1142     0.05                                                           587.8         \n",
      "\u001b[J0           232         12.0246     0                                                              590.438       \n",
      "\u001b[J0           233         12.2589     0.02                                                           592.92        \n",
      "\u001b[J0           234         12.3612     0                                                              595.546       \n",
      "\u001b[J0           235         12.0883     0.03                                                           598.069       \n",
      "\u001b[J0           236         10.3328     0.04                                                           600.382       \n",
      "\u001b[J0           237         9.13843     0.01                                                           602.998       \n",
      "\u001b[J0           238         10.5627     0.03                                                           605.509       \n",
      "\u001b[J0           239         11.0981     0.01                                                           608.161       \n",
      "\u001b[J0           240         12.8599     0.01                                                           610.604       \n",
      "\u001b[J0           241         12.4078     0.02                                                           613.253       \n",
      "\u001b[J0           242         12.3429     0                                                              616.361       \n",
      "\u001b[J0           243         10.3191     0.02                                                           618.973       \n",
      "\u001b[J0           244         9.35955     0.01                                                           621.548       \n",
      "\u001b[J0           245         10.2464     0                                                              623.914       \n",
      "\u001b[J0           246         10.5225     0                                                              626.66        \n",
      "\u001b[J0           247         10.9873     0.02                                                           629.058       \n",
      "\u001b[J0           248         10.7531     0.02                                                           631.549       \n",
      "\u001b[J0           249         11.0224     0.02                                                           634.722       \n",
      "\u001b[J0           250         12.5536     0                                                              637.49        \n",
      "\u001b[J0           251         11.0191     0.01                                                           639.976       \n",
      "\u001b[J0           252         9.58469     0.01                                                           642.316       \n",
      "\u001b[J0           253         14.3009     0.02                                                           645.019       \n",
      "\u001b[J0           254         12.0937     0.01                                                           647.538       \n",
      "\u001b[J0           255         9.29981     0.02                                                           650.12        \n",
      "\u001b[J0           256         13.3822     0.04                                                           652.61        \n",
      "\u001b[J0           257         9.76471     0.04                                                           654.973       \n",
      "\u001b[J0           258         10.6306     0.02                                                           657.887       \n",
      "\u001b[J0           259         9.74891     0.02                                                           660.362       \n",
      "\u001b[J0           260         10.5226     0.03                                                           662.985       \n",
      "\u001b[J0           261         10.6919     0.03                                                           665.404       \n",
      "\u001b[J0           262         10.9604     0.01                                                           668.113       \n",
      "\u001b[J0           263         11.2107     0                                                              670.574       \n",
      "\u001b[J0           264         9.46786     0                                                              672.898       \n",
      "\u001b[J0           265         9.23186     0                                                              675.454       \n",
      "\u001b[J0           266         9.5385      0.01                                                           677.969       \n",
      "\u001b[J0           267         10.288      0.01                                                           680.531       \n",
      "\u001b[J0           268         13.2709     0.02                                                           683.046       \n",
      "\u001b[J0           269         8.86217     0.01                                                           685.407       \n",
      "\u001b[J0           270         13.7482     0.03                                                           687.977       \n",
      "\u001b[J0           271         10.0125     0.04                                                           690.391       \n",
      "\u001b[J0           272         13.6735     0.02                                                           693.03        \n",
      "\u001b[J0           273         12.0657     0.02                                                           695.487       \n",
      "\u001b[J0           274         9.24134     0.03                                                           697.989       \n",
      "\u001b[J0           275         11.7816     0.02                                                           700.377       \n",
      "\u001b[J0           276         13.3948     0.02                                                           702.688       \n",
      "\u001b[J0           277         11.336      0.01                                                           705.352       \n",
      "\u001b[J0           278         9.71839     0.01                                                           707.852       \n",
      "\u001b[J0           279         11.8932     0.04                                                           710.417       \n",
      "\u001b[J0           280         10.3274     0                                                              712.851       \n",
      "\u001b[J0           281         10.9967     0.02                                                           715.161       \n",
      "\u001b[J0           282         12.4804     0.02                                                           717.728       \n",
      "\u001b[J0           283         11.265      0                                                              720.269       \n",
      "\u001b[J0           284         11.2192     0.01                                                           722.94        \n",
      "\u001b[J0           285         11.0037     0.01                                                           725.368       \n",
      "\u001b[J0           286         11.7884     0.01                                                           727.669       \n",
      "\u001b[J0           287         11.1588     0                                                              730.229       \n",
      "\u001b[J0           288         11.239      0.01                                                           732.569       \n",
      "\u001b[J0           289         10.3299     0.04                                                           735.129       \n",
      "\u001b[J0           290         9.27848     0.02                                                           737.538       \n",
      "\u001b[J0           291         9.77508     0.02                                                           740.02        \n",
      "\u001b[J0           292         10.0389     0.03                                                           742.418       \n",
      "\u001b[J0           293         12.5589     0.01                                                           744.895       \n",
      "\u001b[J0           294         9.93755     0.04                                                           747.388       \n",
      "\u001b[J0           295         10.9856     0.02                                                           749.844       \n",
      "\u001b[J0           296         10.7293     0.02                                                           752.308       \n",
      "\u001b[J0           297         11.7983     0.04                                                           754.801       \n",
      "\u001b[J0           298         12.4059     0.02                                                           757.108       \n",
      "\u001b[J0           299         10.9363     0                                                              759.884       \n",
      "\u001b[J0           300         10.7535     0.01                                                           762.305       \n",
      "\u001b[J0           301         10.013      0.03                                                           764.811       \n",
      "\u001b[J0           302         11.2841     0.02                                                           767.167       \n",
      "\u001b[J0           303         9.3757      0.02                                                           769.533       \n",
      "\u001b[J0           304         12.6876     0.02                                                           772.167       \n",
      "\u001b[J0           305         11.6883     0.07                                                           774.626       \n",
      "\u001b[J0           306         10.963      0.01                                                           777.15        \n",
      "\u001b[J0           307         12.7702     0.03                                                           779.562       \n",
      "\u001b[J0           308         10.0986     0.02                                                           781.876       \n",
      "\u001b[J0           309         12.6742     0.03                                                           784.484       \n",
      "\u001b[J0           310         10.9223     0                                                              786.923       \n",
      "\u001b[J0           311         10.1792     0                                                              789.451       \n",
      "\u001b[J0           312         13.1026     0.01                                                           792.002       \n",
      "\u001b[J0           313         12.4238     0.02                                                           794.29        \n",
      "\u001b[J0           314         10.9977     0.02                                                           796.833       \n",
      "\u001b[J0           315         11.5107     0.03                                                           799.364       \n",
      "\u001b[J0           316         12.1938     0                                                              802.061       \n",
      "\u001b[J0           317         11.5034     0                                                              804.525       \n",
      "\u001b[J0           318         11.3326     0.02                                                           807.032       \n",
      "\u001b[J0           319         11.5862     0.01                                                           809.469       \n",
      "\u001b[J0           320         11.3184     0                                                              811.806       \n",
      "\u001b[J0           321         9.20228     0.04                                                           814.451       \n",
      "\u001b[J0           322         10.5621     0                                                              816.881       \n",
      "\u001b[J0           323         9.19639     0.02                                                           819.346       \n",
      "\u001b[J0           324         12.5126     0.04                                                           821.822       \n",
      "\u001b[J0           325         9.81555     0                                                              824.166       \n",
      "\u001b[J0           326         10.6555     0.03                                                           826.732       \n",
      "\u001b[J0           327         11.8144     0.01                                                           829.159       \n",
      "\u001b[J0           328         10.1484     0.02                                                           831.85        \n",
      "\u001b[J0           329         10.2401     0                                                              834.286       \n",
      "\u001b[J0           330         10.1197     0.02                                                           836.556       \n",
      "\u001b[J0           331         11.4753     0.01                                                           839.166       \n",
      "\u001b[J0           332         12.2408     0.01                                                           841.693       \n",
      "\u001b[J0           333         10.0677     0                                                              844.348       \n",
      "\u001b[J0           334         9.46603     0.01                                                           846.786       \n"
     ]
    },
    {
     "name": "stderr",
     "output_type": "stream",
     "text": [
      "Exception in main training loop: string indices must be integers\n",
      "Traceback (most recent call last):\n",
      "  File \"/Users/yoshidayuuki/.pyenv/versions/anaconda3-4.2.0/lib/python3.5/site-packages/chainer/training/trainer.py\", line 318, in run\n",
      "    entry.extension(self)\n",
      "  File \"/Users/yoshidayuuki/.pyenv/versions/anaconda3-4.2.0/lib/python3.5/site-packages/chainer/training/extensions/evaluator.py\", line 157, in __call__\n",
      "    result = self.evaluate()\n",
      "  File \"/Users/yoshidayuuki/.pyenv/versions/anaconda3-4.2.0/lib/python3.5/site-packages/chainer/training/extensions/evaluator.py\", line 206, in evaluate\n",
      "    in_arrays = self.converter(batch, self.device)\n",
      "  File \"/Users/yoshidayuuki/.pyenv/versions/anaconda3-4.2.0/lib/python3.5/site-packages/chainer/dataset/convert.py\", line 134, in concat_examples\n",
      "    [example[i] for example in batch], padding[i])))\n",
      "  File \"/Users/yoshidayuuki/.pyenv/versions/anaconda3-4.2.0/lib/python3.5/site-packages/chainer/dataset/convert.py\", line 164, in _concat_arrays\n",
      "    return xp.concatenate([array[None] for array in arrays])\n",
      "  File \"/Users/yoshidayuuki/.pyenv/versions/anaconda3-4.2.0/lib/python3.5/site-packages/chainer/dataset/convert.py\", line 164, in <listcomp>\n",
      "    return xp.concatenate([array[None] for array in arrays])\n",
      "Will finalize trainer extensions and updater before reraising the exception.\n"
     ]
    },
    {
     "ename": "TypeError",
     "evalue": "string indices must be integers",
     "output_type": "error",
     "traceback": [
      "\u001b[0;31m---------------------------------------------------------------------------\u001b[0m",
      "\u001b[0;31mTypeError\u001b[0m                                 Traceback (most recent call last)",
      "\u001b[0;32m<ipython-input-206-820a9e939571>\u001b[0m in \u001b[0;36m<module>\u001b[0;34m()\u001b[0m\n\u001b[0;32m----> 1\u001b[0;31m \u001b[0mtrn\u001b[0m\u001b[0;34m.\u001b[0m\u001b[0mrun\u001b[0m\u001b[0;34m(\u001b[0m\u001b[0;34m)\u001b[0m\u001b[0;34m\u001b[0m\u001b[0m\n\u001b[0m",
      "\u001b[0;32m/Users/yoshidayuuki/.pyenv/versions/anaconda3-4.2.0/lib/python3.5/site-packages/chainer/training/trainer.py\u001b[0m in \u001b[0;36mrun\u001b[0;34m(self, show_loop_exception_msg)\u001b[0m\n\u001b[1;32m    327\u001b[0m                 f.write('Will finalize trainer extensions and updater before '\n\u001b[1;32m    328\u001b[0m                         'reraising the exception.\\n')\n\u001b[0;32m--> 329\u001b[0;31m             \u001b[0msix\u001b[0m\u001b[0;34m.\u001b[0m\u001b[0mreraise\u001b[0m\u001b[0;34m(\u001b[0m\u001b[0;34m*\u001b[0m\u001b[0msys\u001b[0m\u001b[0;34m.\u001b[0m\u001b[0mexc_info\u001b[0m\u001b[0;34m(\u001b[0m\u001b[0;34m)\u001b[0m\u001b[0;34m)\u001b[0m\u001b[0;34m\u001b[0m\u001b[0m\n\u001b[0m\u001b[1;32m    330\u001b[0m         \u001b[0;32mfinally\u001b[0m\u001b[0;34m:\u001b[0m\u001b[0;34m\u001b[0m\u001b[0m\n\u001b[1;32m    331\u001b[0m             \u001b[0;32mfor\u001b[0m \u001b[0m_\u001b[0m\u001b[0;34m,\u001b[0m \u001b[0mentry\u001b[0m \u001b[0;32min\u001b[0m \u001b[0mextensions\u001b[0m\u001b[0;34m:\u001b[0m\u001b[0;34m\u001b[0m\u001b[0m\n",
      "\u001b[0;32m/Users/yoshidayuuki/.pyenv/versions/anaconda3-4.2.0/lib/python3.5/site-packages/six.py\u001b[0m in \u001b[0;36mreraise\u001b[0;34m(tp, value, tb)\u001b[0m\n\u001b[1;32m    691\u001b[0m             \u001b[0;32mif\u001b[0m \u001b[0mvalue\u001b[0m\u001b[0;34m.\u001b[0m\u001b[0m__traceback__\u001b[0m \u001b[0;32mis\u001b[0m \u001b[0;32mnot\u001b[0m \u001b[0mtb\u001b[0m\u001b[0;34m:\u001b[0m\u001b[0;34m\u001b[0m\u001b[0m\n\u001b[1;32m    692\u001b[0m                 \u001b[0;32mraise\u001b[0m \u001b[0mvalue\u001b[0m\u001b[0;34m.\u001b[0m\u001b[0mwith_traceback\u001b[0m\u001b[0;34m(\u001b[0m\u001b[0mtb\u001b[0m\u001b[0;34m)\u001b[0m\u001b[0;34m\u001b[0m\u001b[0m\n\u001b[0;32m--> 693\u001b[0;31m             \u001b[0;32mraise\u001b[0m \u001b[0mvalue\u001b[0m\u001b[0;34m\u001b[0m\u001b[0m\n\u001b[0m\u001b[1;32m    694\u001b[0m         \u001b[0;32mfinally\u001b[0m\u001b[0;34m:\u001b[0m\u001b[0;34m\u001b[0m\u001b[0m\n\u001b[1;32m    695\u001b[0m             \u001b[0mvalue\u001b[0m \u001b[0;34m=\u001b[0m \u001b[0;32mNone\u001b[0m\u001b[0;34m\u001b[0m\u001b[0m\n",
      "\u001b[0;32m/Users/yoshidayuuki/.pyenv/versions/anaconda3-4.2.0/lib/python3.5/site-packages/chainer/training/trainer.py\u001b[0m in \u001b[0;36mrun\u001b[0;34m(self, show_loop_exception_msg)\u001b[0m\n\u001b[1;32m    316\u001b[0m                     \u001b[0;32mfor\u001b[0m \u001b[0mname\u001b[0m\u001b[0;34m,\u001b[0m \u001b[0mentry\u001b[0m \u001b[0;32min\u001b[0m \u001b[0mextensions\u001b[0m\u001b[0;34m:\u001b[0m\u001b[0;34m\u001b[0m\u001b[0m\n\u001b[1;32m    317\u001b[0m                         \u001b[0;32mif\u001b[0m \u001b[0mentry\u001b[0m\u001b[0;34m.\u001b[0m\u001b[0mtrigger\u001b[0m\u001b[0;34m(\u001b[0m\u001b[0mself\u001b[0m\u001b[0;34m)\u001b[0m\u001b[0;34m:\u001b[0m\u001b[0;34m\u001b[0m\u001b[0m\n\u001b[0;32m--> 318\u001b[0;31m                             \u001b[0mentry\u001b[0m\u001b[0;34m.\u001b[0m\u001b[0mextension\u001b[0m\u001b[0;34m(\u001b[0m\u001b[0mself\u001b[0m\u001b[0;34m)\u001b[0m\u001b[0;34m\u001b[0m\u001b[0m\n\u001b[0m\u001b[1;32m    319\u001b[0m         \u001b[0;32mexcept\u001b[0m \u001b[0mException\u001b[0m \u001b[0;32mas\u001b[0m \u001b[0me\u001b[0m\u001b[0;34m:\u001b[0m\u001b[0;34m\u001b[0m\u001b[0m\n\u001b[1;32m    320\u001b[0m             \u001b[0;32mif\u001b[0m \u001b[0mshow_loop_exception_msg\u001b[0m\u001b[0;34m:\u001b[0m\u001b[0;34m\u001b[0m\u001b[0m\n",
      "\u001b[0;32m/Users/yoshidayuuki/.pyenv/versions/anaconda3-4.2.0/lib/python3.5/site-packages/chainer/training/extensions/evaluator.py\u001b[0m in \u001b[0;36m__call__\u001b[0;34m(self, trainer)\u001b[0m\n\u001b[1;32m    155\u001b[0m         \u001b[0;32mwith\u001b[0m \u001b[0mreporter\u001b[0m\u001b[0;34m:\u001b[0m\u001b[0;34m\u001b[0m\u001b[0m\n\u001b[1;32m    156\u001b[0m             \u001b[0;32mwith\u001b[0m \u001b[0mconfiguration\u001b[0m\u001b[0;34m.\u001b[0m\u001b[0musing_config\u001b[0m\u001b[0;34m(\u001b[0m\u001b[0;34m'train'\u001b[0m\u001b[0;34m,\u001b[0m \u001b[0;32mFalse\u001b[0m\u001b[0;34m)\u001b[0m\u001b[0;34m:\u001b[0m\u001b[0;34m\u001b[0m\u001b[0m\n\u001b[0;32m--> 157\u001b[0;31m                 \u001b[0mresult\u001b[0m \u001b[0;34m=\u001b[0m \u001b[0mself\u001b[0m\u001b[0;34m.\u001b[0m\u001b[0mevaluate\u001b[0m\u001b[0;34m(\u001b[0m\u001b[0;34m)\u001b[0m\u001b[0;34m\u001b[0m\u001b[0m\n\u001b[0m\u001b[1;32m    158\u001b[0m \u001b[0;34m\u001b[0m\u001b[0m\n\u001b[1;32m    159\u001b[0m         \u001b[0mreporter_module\u001b[0m\u001b[0;34m.\u001b[0m\u001b[0mreport\u001b[0m\u001b[0;34m(\u001b[0m\u001b[0mresult\u001b[0m\u001b[0;34m)\u001b[0m\u001b[0;34m\u001b[0m\u001b[0m\n",
      "\u001b[0;32m/Users/yoshidayuuki/.pyenv/versions/anaconda3-4.2.0/lib/python3.5/site-packages/chainer/training/extensions/evaluator.py\u001b[0m in \u001b[0;36mevaluate\u001b[0;34m(self)\u001b[0m\n\u001b[1;32m    204\u001b[0m             \u001b[0mobservation\u001b[0m \u001b[0;34m=\u001b[0m \u001b[0;34m{\u001b[0m\u001b[0;34m}\u001b[0m\u001b[0;34m\u001b[0m\u001b[0m\n\u001b[1;32m    205\u001b[0m             \u001b[0;32mwith\u001b[0m \u001b[0mreporter_module\u001b[0m\u001b[0;34m.\u001b[0m\u001b[0mreport_scope\u001b[0m\u001b[0;34m(\u001b[0m\u001b[0mobservation\u001b[0m\u001b[0;34m)\u001b[0m\u001b[0;34m:\u001b[0m\u001b[0;34m\u001b[0m\u001b[0m\n\u001b[0;32m--> 206\u001b[0;31m                 \u001b[0min_arrays\u001b[0m \u001b[0;34m=\u001b[0m \u001b[0mself\u001b[0m\u001b[0;34m.\u001b[0m\u001b[0mconverter\u001b[0m\u001b[0;34m(\u001b[0m\u001b[0mbatch\u001b[0m\u001b[0;34m,\u001b[0m \u001b[0mself\u001b[0m\u001b[0;34m.\u001b[0m\u001b[0mdevice\u001b[0m\u001b[0;34m)\u001b[0m\u001b[0;34m\u001b[0m\u001b[0m\n\u001b[0m\u001b[1;32m    207\u001b[0m                 \u001b[0;32mwith\u001b[0m \u001b[0mfunction\u001b[0m\u001b[0;34m.\u001b[0m\u001b[0mno_backprop_mode\u001b[0m\u001b[0;34m(\u001b[0m\u001b[0;34m)\u001b[0m\u001b[0;34m:\u001b[0m\u001b[0;34m\u001b[0m\u001b[0m\n\u001b[1;32m    208\u001b[0m                     \u001b[0;32mif\u001b[0m \u001b[0misinstance\u001b[0m\u001b[0;34m(\u001b[0m\u001b[0min_arrays\u001b[0m\u001b[0;34m,\u001b[0m \u001b[0mtuple\u001b[0m\u001b[0;34m)\u001b[0m\u001b[0;34m:\u001b[0m\u001b[0;34m\u001b[0m\u001b[0m\n",
      "\u001b[0;32m/Users/yoshidayuuki/.pyenv/versions/anaconda3-4.2.0/lib/python3.5/site-packages/chainer/dataset/convert.py\u001b[0m in \u001b[0;36mconcat_examples\u001b[0;34m(batch, device, padding)\u001b[0m\n\u001b[1;32m    132\u001b[0m         \u001b[0;32mfor\u001b[0m \u001b[0mi\u001b[0m \u001b[0;32min\u001b[0m \u001b[0msix\u001b[0m\u001b[0;34m.\u001b[0m\u001b[0mmoves\u001b[0m\u001b[0;34m.\u001b[0m\u001b[0mrange\u001b[0m\u001b[0;34m(\u001b[0m\u001b[0mlen\u001b[0m\u001b[0;34m(\u001b[0m\u001b[0mfirst_elem\u001b[0m\u001b[0;34m)\u001b[0m\u001b[0;34m)\u001b[0m\u001b[0;34m:\u001b[0m\u001b[0;34m\u001b[0m\u001b[0m\n\u001b[1;32m    133\u001b[0m             result.append(to_device(device, _concat_arrays(\n\u001b[0;32m--> 134\u001b[0;31m                 [example[i] for example in batch], padding[i])))\n\u001b[0m\u001b[1;32m    135\u001b[0m \u001b[0;34m\u001b[0m\u001b[0m\n\u001b[1;32m    136\u001b[0m         \u001b[0;32mreturn\u001b[0m \u001b[0mtuple\u001b[0m\u001b[0;34m(\u001b[0m\u001b[0mresult\u001b[0m\u001b[0;34m)\u001b[0m\u001b[0;34m\u001b[0m\u001b[0m\n",
      "\u001b[0;32m/Users/yoshidayuuki/.pyenv/versions/anaconda3-4.2.0/lib/python3.5/site-packages/chainer/dataset/convert.py\u001b[0m in \u001b[0;36m_concat_arrays\u001b[0;34m(arrays, padding)\u001b[0m\n\u001b[1;32m    162\u001b[0m     \u001b[0mxp\u001b[0m \u001b[0;34m=\u001b[0m \u001b[0mbackend\u001b[0m\u001b[0;34m.\u001b[0m\u001b[0mget_array_module\u001b[0m\u001b[0;34m(\u001b[0m\u001b[0marrays\u001b[0m\u001b[0;34m[\u001b[0m\u001b[0;36m0\u001b[0m\u001b[0;34m]\u001b[0m\u001b[0;34m)\u001b[0m\u001b[0;34m\u001b[0m\u001b[0m\n\u001b[1;32m    163\u001b[0m     \u001b[0;32mwith\u001b[0m \u001b[0mcuda\u001b[0m\u001b[0;34m.\u001b[0m\u001b[0mget_device_from_array\u001b[0m\u001b[0;34m(\u001b[0m\u001b[0marrays\u001b[0m\u001b[0;34m[\u001b[0m\u001b[0;36m0\u001b[0m\u001b[0;34m]\u001b[0m\u001b[0;34m)\u001b[0m\u001b[0;34m:\u001b[0m\u001b[0;34m\u001b[0m\u001b[0m\n\u001b[0;32m--> 164\u001b[0;31m         \u001b[0;32mreturn\u001b[0m \u001b[0mxp\u001b[0m\u001b[0;34m.\u001b[0m\u001b[0mconcatenate\u001b[0m\u001b[0;34m(\u001b[0m\u001b[0;34m[\u001b[0m\u001b[0marray\u001b[0m\u001b[0;34m[\u001b[0m\u001b[0;32mNone\u001b[0m\u001b[0;34m]\u001b[0m \u001b[0;32mfor\u001b[0m \u001b[0marray\u001b[0m \u001b[0;32min\u001b[0m \u001b[0marrays\u001b[0m\u001b[0;34m]\u001b[0m\u001b[0;34m)\u001b[0m\u001b[0;34m\u001b[0m\u001b[0m\n\u001b[0m\u001b[1;32m    165\u001b[0m \u001b[0;34m\u001b[0m\u001b[0m\n\u001b[1;32m    166\u001b[0m \u001b[0;34m\u001b[0m\u001b[0m\n",
      "\u001b[0;32m/Users/yoshidayuuki/.pyenv/versions/anaconda3-4.2.0/lib/python3.5/site-packages/chainer/dataset/convert.py\u001b[0m in \u001b[0;36m<listcomp>\u001b[0;34m(.0)\u001b[0m\n\u001b[1;32m    162\u001b[0m     \u001b[0mxp\u001b[0m \u001b[0;34m=\u001b[0m \u001b[0mbackend\u001b[0m\u001b[0;34m.\u001b[0m\u001b[0mget_array_module\u001b[0m\u001b[0;34m(\u001b[0m\u001b[0marrays\u001b[0m\u001b[0;34m[\u001b[0m\u001b[0;36m0\u001b[0m\u001b[0;34m]\u001b[0m\u001b[0;34m)\u001b[0m\u001b[0;34m\u001b[0m\u001b[0m\n\u001b[1;32m    163\u001b[0m     \u001b[0;32mwith\u001b[0m \u001b[0mcuda\u001b[0m\u001b[0;34m.\u001b[0m\u001b[0mget_device_from_array\u001b[0m\u001b[0;34m(\u001b[0m\u001b[0marrays\u001b[0m\u001b[0;34m[\u001b[0m\u001b[0;36m0\u001b[0m\u001b[0;34m]\u001b[0m\u001b[0;34m)\u001b[0m\u001b[0;34m:\u001b[0m\u001b[0;34m\u001b[0m\u001b[0m\n\u001b[0;32m--> 164\u001b[0;31m         \u001b[0;32mreturn\u001b[0m \u001b[0mxp\u001b[0m\u001b[0;34m.\u001b[0m\u001b[0mconcatenate\u001b[0m\u001b[0;34m(\u001b[0m\u001b[0;34m[\u001b[0m\u001b[0marray\u001b[0m\u001b[0;34m[\u001b[0m\u001b[0;32mNone\u001b[0m\u001b[0;34m]\u001b[0m \u001b[0;32mfor\u001b[0m \u001b[0marray\u001b[0m \u001b[0;32min\u001b[0m \u001b[0marrays\u001b[0m\u001b[0;34m]\u001b[0m\u001b[0;34m)\u001b[0m\u001b[0;34m\u001b[0m\u001b[0m\n\u001b[0m\u001b[1;32m    165\u001b[0m \u001b[0;34m\u001b[0m\u001b[0m\n\u001b[1;32m    166\u001b[0m \u001b[0;34m\u001b[0m\u001b[0m\n",
      "\u001b[0;31mTypeError\u001b[0m: string indices must be integers"
     ]
    }
   ],
   "source": [
    "trn.run()"
   ]
  },
  {
   "cell_type": "code",
   "execution_count": null,
   "metadata": {
    "collapsed": true
   },
   "outputs": [],
   "source": []
  }
 ],
 "metadata": {
  "kernelspec": {
   "display_name": "Python [conda root]",
   "language": "python",
   "name": "conda-root-py"
  },
  "language_info": {
   "codemirror_mode": {
    "name": "ipython",
    "version": 3
   },
   "file_extension": ".py",
   "mimetype": "text/x-python",
   "name": "python",
   "nbconvert_exporter": "python",
   "pygments_lexer": "ipython3",
   "version": "3.5.2"
  },
  "widgets": {
   "state": {
    "8cec6a3a8f6046d793ea9a34d72e5409": {
     "views": [
      {
       "cell_index": 8
      }
     ]
    },
    "9cf611255ec841fe8997618c205ef1ad": {
     "views": [
      {
       "cell_index": 18
      }
     ]
    },
    "c3523815bee341cd851296f2536b7d45": {
     "views": [
      {
       "cell_index": 19
      }
     ]
    },
    "db65b0418acf4d1287d42e4790593821": {
     "views": [
      {
       "cell_index": 18
      }
     ]
    }
   },
   "version": "1.2.0"
  }
 },
 "nbformat": 4,
 "nbformat_minor": 2
}
