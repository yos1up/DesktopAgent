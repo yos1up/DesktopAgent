{
 "cells": [
  {
   "cell_type": "code",
   "execution_count": 92,
   "metadata": {
    "collapsed": true
   },
   "outputs": [],
   "source": [
    "import numpy as np\n",
    "import pandas as pd\n",
    "import matplotlib.pyplot as plt\n",
    "from tqdm import tqdm_notebook as tqdm\n",
    "from collections import Counter, defaultdict, deque\n",
    "import os, sys, glob, copy, json, time, pickle"
   ]
  },
  {
   "cell_type": "code",
   "execution_count": 10,
   "metadata": {
    "collapsed": true
   },
   "outputs": [],
   "source": [
    "from chainer import Chain, ChainList, cuda, gradient_check, Function, Link, \\\n",
    "    optimizers, serializers, utils, Variable, dataset, datasets, using_config, training, iterators\n",
    "from chainer.training import extensions\n",
    "from chainer import functions as F\n",
    "from chainer import links as L\n",
    "import chainer"
   ]
  },
  {
   "cell_type": "code",
   "execution_count": 238,
   "metadata": {
    "collapsed": true
   },
   "outputs": [],
   "source": [
    "class Agent:\n",
    "    \"\"\"\n",
    "    General Q-Learning Agent for an environment\n",
    "    whose states are given by images and whose actions are discrete\n",
    "    \"\"\"\n",
    "    def __init__(self, num_action):\n",
    "        \"\"\"\n",
    "        num_action (int) : 可能な行動の個数．\n",
    "        \"\"\"\n",
    "        self.sars_list = deque()\n",
    "        self.num_action = num_action\n",
    "        self.gamma = 0.95\n",
    "        self.epsilon = 0.1\n",
    "        self.iteration = 0\n",
    "        self.batch_size = 10\n",
    "        self.Q = QFunc(num_action)\n",
    "        self.opt = optimizers.MomentumSGD().setup(self.Q)\n",
    "        self.opt.add_hook(chainer.optimizer.GradientClipping(5.0))\n",
    "        \n",
    "    def observe(self, sars):\n",
    "        \"\"\"\n",
    "        sars: [s0, a, r, s1]\n",
    "            s0, s1: 3-dim image[c,h,w]，  a : int, r : float  (32bit-ize is not needed)\n",
    "        \"\"\"\n",
    "        self.sars_list.append(sars)\n",
    "        if len(self.sars_list) >= 10000:\n",
    "            self.sars_list.popleft()            \n",
    "        # 容量がしんどそう　　VAEなどで次元削減しておけばあるいは．\n",
    "        # 驚きの小さかったイベントを優先的に忘れた方が良いのでは？\n",
    "        self.iteration += 1\n",
    "        if self.iteration % 10 == 0: self._learn()\n",
    "    def _learn(self):\n",
    "        idx = np.random.choice(len(self.sars_list), self.batch_size, replace=False)\n",
    "        s0, a, r, s1 = zip(*[self.sars_list[i] for i in idx])\n",
    "        s0, r, s1 = np.array(s0, dtype=np.float32), np.array(r, dtype=np.float32), np.array(s1, dtype=np.float32)\n",
    "        a = np.array(a, dtype=np.int32)\n",
    "        # calculate loss of Q-learning\n",
    "        with chainer.no_backprop_mode():\n",
    "            rhs = r + self.gamma * F.max(self.Q(s1), axis=1)\n",
    "        lhs = F.select_item(self.Q(s0), a)\n",
    "        loss = F.mean((rhs - lhs) ** 2) # scalar\n",
    "        self.Q.cleargrads()\n",
    "        loss.backward()\n",
    "        self.opt.update()\n",
    "    def determine(self, s):\n",
    "        \"\"\"\n",
    "        s : single array => a : single int\n",
    "        \"\"\"\n",
    "        if np.random.rand() > self.epsilon:\n",
    "            return np.argmax(self.Q(Variable(np.array([s],dtype=np.float32))).data.flatten())\n",
    "        else:\n",
    "            return np.random.randint(self.num_action)\n",
    "        \n",
    "    def save(self, path):\n",
    "        with open(path, 'wb') as f:\n",
    "            pickle.dump(self, f)\n",
    "            \n",
    "    def load(self, path):\n",
    "        with open(path, 'rb') as f:\n",
    "            self.__dict__.update(pickle.load(f).__dict__)\n",
    "        \n",
    "        \n",
    "class QFunc(Chain):\n",
    "    def __init__(self, num_action):\n",
    "        super().__init__()\n",
    "        with self.init_scope():\n",
    "            self.add_link('b1', L.BatchNormalization(3))\n",
    "            self.add_link('c1', L.Convolution2D(3, 6, ksize=5, stride=4))\n",
    "            self.add_link('b2', L.BatchNormalization(6))\n",
    "            self.add_link('c2', L.Convolution2D(6, 12, ksize=5, stride=4))\n",
    "            self.add_link('b3', L.BatchNormalization(12))\n",
    "            self.add_link('c3', L.Convolution2D(12, 24, ksize=5, stride=4))\n",
    "            self.add_link('l1', L.Linear(None, 64))\n",
    "            self.add_link('l2', L.Linear(64, num_action))\n",
    "    def __call__(self, x):\n",
    "        '''\n",
    "        x (Variable) => (Variable)\n",
    "        '''\n",
    "        assert x.ndim == 4\n",
    "        assert x.shape[1] == 3\n",
    "        h = x\n",
    "        h = self.b1(h)\n",
    "        h = F.relu(self.c1(h))\n",
    "        h = self.b2(h)\n",
    "        h = F.relu(self.c2(h))\n",
    "        h = self.b3(h)\n",
    "        h = F.relu(self.c3(h))\n",
    "        h = F.relu(self.l1(h))\n",
    "        h = self.l2(h)\n",
    "        return h"
   ]
  },
  {
   "cell_type": "code",
   "execution_count": null,
   "metadata": {
    "collapsed": true
   },
   "outputs": [],
   "source": [
    "import mss\n",
    "class DesktopEnv:\n",
    "    \"\"\"\n",
    "    desktop environment with openai-gym-like format\n",
    "    \"\"\"\n",
    "    def __init__(self):\n",
    "        self.sct = mss.mss()\n",
    "        self.ltrb = (0, 0, 640, 480) # (l, t, r, b)\n",
    "        \n",
    "    def _reset(self):\n",
    "        \"\"\"\n",
    "        Returns: initial state\n",
    "        \"\"\"\n",
    "        return _get_screenshot()\n",
    "    \n",
    "    def _step(self, action):\n",
    "        \"\"\"\n",
    "        action (single int) => new_state, reward, is_done, info\n",
    "        \"\"\"\n",
    "        obs = _get_screenshot\n",
    "        return obs, reward, False, {}\n",
    "    \n",
    "    def _get_screenshot(self):\n",
    "        return np.array(self.sct.grab(self.ltrb))[...,:3].transpose(2,0,1) # (color[BGR], height, width) \n",
    "        \n",
    "# ここまで書いて気づいたが， DesktopEnv は受け身で実行される立場なので（画面の状態に追従して実行される），\n",
    "# openai-gym の形式じゃない方が書きやすいかも．"
   ]
  },
  {
   "cell_type": "code",
   "execution_count": 256,
   "metadata": {
    "collapsed": false
   },
   "outputs": [],
   "source": [
    "import mss\n",
    "import pyautogui as pgui\n",
    "import pytesseract\n",
    "class DesktopTrainer:\n",
    "    \"\"\"\n",
    "    Agent と環境の間を仲介する．\n",
    "    \"\"\"\n",
    "    def __init__(self, agent, ltrb=(0, 0, 640, 480), ltrb_score=(0, 0, 100, 20), action=[[],['left'],['up'],['right'],['down']]):\n",
    "        self.sct = mss.mss()\n",
    "        self.ltrb = ltrb\n",
    "        self.ltrb_score = ltrb_score\n",
    "        self.action = action\n",
    "        self.agent = agent \n",
    "        self.screen_info_log = deque()\n",
    "        self.log_ssa = deque()\n",
    "        self.gameover = False\n",
    "        \n",
    "    def run(self):\n",
    "        \"\"\"\n",
    "        学習を開始する．\n",
    "        \"\"\"\n",
    "        while True:\n",
    "            time.sleep(0.1)\n",
    "            info = self._get_screen_info()\n",
    "            selected_action = self.agent.determine(info[\"screen_array\"])\n",
    "            info[\"selected_action\"] = selected_action\n",
    "            # update key pressing w.r.t. selected_action\n",
    "            # pgui.keyDown('shift')\n",
    "            # pgui.keyUp('shift')\n",
    "            # https://pyautogui.readthedocs.io/en/latest/introduction.html\n",
    "            \n",
    "            # logging screen info\n",
    "            DesktopTrainer._update_log(self.screen_info_log, info, 100)\n",
    "            \n",
    "            # ゲームが続いているかの判定． とりあえず，スコアが読み取れたかどうかを使って判定する．\n",
    "            score = np.array([log[\"score\"] for log in self.screen_info_log])\n",
    "            if len(self.screen_info_log) >= 20:\n",
    "                if all(np.isnan(score[-20:])):\n",
    "                    self.gameover = True\n",
    "                    print(\"gameover detected\")\n",
    "                    # TODO: ここで agent に負の observation を伝える？\n",
    "                elif not any(np.isnan(score[-20:])):\n",
    "                    self.gameover = False\n",
    "                    print(\"game started\")\n",
    "                    \n",
    "            if self.gameover:\n",
    "                continue\n",
    "                \n",
    "            if len(score) >= 20:\n",
    "                key_frame = -11\n",
    "                past_score = np.nanmedian(score[key_frame*2+2:-1])\n",
    "                current_score = np.nanmedian(score[key_frame*2+3:])\n",
    "                if not np.isnan(past_score) and not np.isnan(current_score):\n",
    "                    # agent に observation を伝える．\n",
    "                    r = current_score - past_score\n",
    "                    r = np.sign(r) * np.log(1 + np.abs(r))                    \n",
    "                    s0 = self.screen_info_log[key_frame][\"screen_array\"]\n",
    "                    a = self.screen_info_log[key_frame][\"selected_action\"]\n",
    "                    s1 = self.screen_info_log[key_frame+1][\"screen_array\"]\n",
    "                    self.agent.observe([s0, a, r, s1])\n",
    "                    if past_score != current_score:\n",
    "                        print(\"[score changed] {} => {}\".format(past_score, current_score))\n",
    "    \n",
    "    @staticmethod\n",
    "    def _update_log(dq, item, maxlen):\n",
    "        dq.append(item)\n",
    "        if len(dq) > maxlen: dq.popleft()\n",
    "    \n",
    "    def _get_screen_info(self):\n",
    "        screen_ary = np.array(self.sct.grab(self.ltrb))[...,:3].transpose(2,0,1) # (color[BGR], height, width) \n",
    "        score_str = pytesseract.image_to_string(np.array(self.sct.grab(self.ltrb_score)), lang='eng')\n",
    "        score_digits = ''.join([s for s in score_str if s in '0123456789'])\n",
    "        score = int(score_digits) if score_digits != \"\" else np.nan\n",
    "        return {\n",
    "            \"screen_array\": screen_ary,\n",
    "            \"score_string\": score_str,\n",
    "            \"score\": score            \n",
    "        }\n",
    "        "
   ]
  },
  {
   "cell_type": "code",
   "execution_count": 257,
   "metadata": {
    "collapsed": false
   },
   "outputs": [],
   "source": [
    "agent = Agent(3)\n",
    "dt = DesktopTrainer(agent, ltrb=(0,0,320,240), ltrb_score=(25,159,158,207), action=[[], ['up'], ['down']])"
   ]
  },
  {
   "cell_type": "code",
   "execution_count": 255,
   "metadata": {
    "collapsed": true
   },
   "outputs": [
    {
     "name": "stdout",
     "output_type": "stream",
     "text": [
      "past_score: 97.0 => current_score: 97.0\n",
      "past_score: 97.0 => current_score: 97.0\n",
      "past_score: 97.0 => current_score: 97.0\n",
      "past_score: 97.0 => current_score: 97.0\n",
      "past_score: 97.0 => current_score: 97.0\n",
      "past_score: 97.0 => current_score: 97.0\n",
      "past_score: 97.0 => current_score: 97.0\n",
      "past_score: 97.0 => current_score: 97.0\n",
      "past_score: 97.0 => current_score: 97.0\n",
      "past_score: 97.0 => current_score: 97.0\n",
      "past_score: 97.0 => current_score: 97.0\n",
      "past_score: 97.0 => current_score: 97.0\n",
      "past_score: 97.0 => current_score: 97.0\n",
      "past_score: 97.0 => current_score: 97.0\n",
      "past_score: 97.0 => current_score: 97.0\n",
      "past_score: 97.0 => current_score: 97.0\n",
      "past_score: 97.0 => current_score: 97.0\n",
      "past_score: 97.0 => current_score: 97.0\n",
      "past_score: 97.0 => current_score: 97.0\n",
      "past_score: 97.0 => current_score: 97.0\n",
      "past_score: 97.0 => current_score: 97.0\n",
      "past_score: 97.0 => current_score: 97.0\n",
      "past_score: 97.0 => current_score: 97.0\n",
      "past_score: 97.0 => current_score: 97.0\n",
      "past_score: 97.0 => current_score: 97.0\n",
      "past_score: 97.0 => current_score: 97.0\n",
      "past_score: 97.0 => current_score: 97.0\n",
      "past_score: 97.0 => current_score: 97.0\n",
      "past_score: 97.0 => current_score: 97.0\n",
      "past_score: 97.0 => current_score: 97.0\n",
      "past_score: 97.0 => current_score: 97.0\n",
      "past_score: 97.0 => current_score: 97.0\n",
      "past_score: 97.0 => current_score: 97.0\n",
      "past_score: 97.0 => current_score: 97.0\n",
      "past_score: 97.0 => current_score: 97.0\n",
      "past_score: 97.0 => current_score: 97.0\n",
      "past_score: 97.0 => current_score: 97.0\n",
      "past_score: 97.0 => current_score: 97.0\n",
      "past_score: 97.0 => current_score: 97.0\n",
      "past_score: 97.0 => current_score: 97.0\n",
      "past_score: 97.0 => current_score: 97.0\n",
      "past_score: 97.0 => current_score: 97.0\n"
     ]
    },
    {
     "ename": "KeyboardInterrupt",
     "evalue": "",
     "output_type": "error",
     "traceback": [
      "\u001b[0;31m---------------------------------------------------------------------------\u001b[0m",
      "\u001b[0;31mKeyboardInterrupt\u001b[0m                         Traceback (most recent call last)",
      "\u001b[0;32m<ipython-input-255-90bc52569d64>\u001b[0m in \u001b[0;36m<module>\u001b[0;34m()\u001b[0m\n\u001b[0;32m----> 1\u001b[0;31m \u001b[0mdt\u001b[0m\u001b[0;34m.\u001b[0m\u001b[0mrun\u001b[0m\u001b[0;34m(\u001b[0m\u001b[0;34m)\u001b[0m\u001b[0;34m\u001b[0m\u001b[0m\n\u001b[0m",
      "\u001b[0;32m<ipython-input-253-8d75e2738f9c>\u001b[0m in \u001b[0;36mrun\u001b[0;34m(self)\u001b[0m\n\u001b[1;32m     22\u001b[0m         \u001b[0;32mwhile\u001b[0m \u001b[0;32mTrue\u001b[0m\u001b[0;34m:\u001b[0m\u001b[0;34m\u001b[0m\u001b[0m\n\u001b[1;32m     23\u001b[0m             \u001b[0mtime\u001b[0m\u001b[0;34m.\u001b[0m\u001b[0msleep\u001b[0m\u001b[0;34m(\u001b[0m\u001b[0;36m0.1\u001b[0m\u001b[0;34m)\u001b[0m\u001b[0;34m\u001b[0m\u001b[0m\n\u001b[0;32m---> 24\u001b[0;31m             \u001b[0minfo\u001b[0m \u001b[0;34m=\u001b[0m \u001b[0mself\u001b[0m\u001b[0;34m.\u001b[0m\u001b[0m_get_screen_info\u001b[0m\u001b[0;34m(\u001b[0m\u001b[0;34m)\u001b[0m\u001b[0;34m\u001b[0m\u001b[0m\n\u001b[0m\u001b[1;32m     25\u001b[0m             \u001b[0mselected_action\u001b[0m \u001b[0;34m=\u001b[0m \u001b[0mself\u001b[0m\u001b[0;34m.\u001b[0m\u001b[0magent\u001b[0m\u001b[0;34m.\u001b[0m\u001b[0mdetermine\u001b[0m\u001b[0;34m(\u001b[0m\u001b[0minfo\u001b[0m\u001b[0;34m[\u001b[0m\u001b[0;34m\"screen_array\"\u001b[0m\u001b[0;34m]\u001b[0m\u001b[0;34m)\u001b[0m\u001b[0;34m\u001b[0m\u001b[0m\n\u001b[1;32m     26\u001b[0m             \u001b[0minfo\u001b[0m\u001b[0;34m[\u001b[0m\u001b[0;34m\"selected_action\"\u001b[0m\u001b[0;34m]\u001b[0m \u001b[0;34m=\u001b[0m \u001b[0mselected_action\u001b[0m\u001b[0;34m\u001b[0m\u001b[0m\n",
      "\u001b[0;32m<ipython-input-253-8d75e2738f9c>\u001b[0m in \u001b[0;36m_get_screen_info\u001b[0;34m(self)\u001b[0m\n\u001b[1;32m     68\u001b[0m     \u001b[0;32mdef\u001b[0m \u001b[0m_get_screen_info\u001b[0m\u001b[0;34m(\u001b[0m\u001b[0mself\u001b[0m\u001b[0;34m)\u001b[0m\u001b[0;34m:\u001b[0m\u001b[0;34m\u001b[0m\u001b[0m\n\u001b[1;32m     69\u001b[0m         \u001b[0mscreen_ary\u001b[0m \u001b[0;34m=\u001b[0m \u001b[0mnp\u001b[0m\u001b[0;34m.\u001b[0m\u001b[0marray\u001b[0m\u001b[0;34m(\u001b[0m\u001b[0mself\u001b[0m\u001b[0;34m.\u001b[0m\u001b[0msct\u001b[0m\u001b[0;34m.\u001b[0m\u001b[0mgrab\u001b[0m\u001b[0;34m(\u001b[0m\u001b[0mself\u001b[0m\u001b[0;34m.\u001b[0m\u001b[0mltrb\u001b[0m\u001b[0;34m)\u001b[0m\u001b[0;34m)\u001b[0m\u001b[0;34m[\u001b[0m\u001b[0;34m...\u001b[0m\u001b[0;34m,\u001b[0m\u001b[0;34m:\u001b[0m\u001b[0;36m3\u001b[0m\u001b[0;34m]\u001b[0m\u001b[0;34m.\u001b[0m\u001b[0mtranspose\u001b[0m\u001b[0;34m(\u001b[0m\u001b[0;36m2\u001b[0m\u001b[0;34m,\u001b[0m\u001b[0;36m0\u001b[0m\u001b[0;34m,\u001b[0m\u001b[0;36m1\u001b[0m\u001b[0;34m)\u001b[0m \u001b[0;31m# (color[BGR], height, width)\u001b[0m\u001b[0;34m\u001b[0m\u001b[0m\n\u001b[0;32m---> 70\u001b[0;31m         \u001b[0mscore_str\u001b[0m \u001b[0;34m=\u001b[0m \u001b[0mpytesseract\u001b[0m\u001b[0;34m.\u001b[0m\u001b[0mimage_to_string\u001b[0m\u001b[0;34m(\u001b[0m\u001b[0mnp\u001b[0m\u001b[0;34m.\u001b[0m\u001b[0marray\u001b[0m\u001b[0;34m(\u001b[0m\u001b[0mself\u001b[0m\u001b[0;34m.\u001b[0m\u001b[0msct\u001b[0m\u001b[0;34m.\u001b[0m\u001b[0mgrab\u001b[0m\u001b[0;34m(\u001b[0m\u001b[0mself\u001b[0m\u001b[0;34m.\u001b[0m\u001b[0mltrb_score\u001b[0m\u001b[0;34m)\u001b[0m\u001b[0;34m)\u001b[0m\u001b[0;34m,\u001b[0m \u001b[0mlang\u001b[0m\u001b[0;34m=\u001b[0m\u001b[0;34m'eng'\u001b[0m\u001b[0;34m)\u001b[0m\u001b[0;34m\u001b[0m\u001b[0m\n\u001b[0m\u001b[1;32m     71\u001b[0m         \u001b[0mscore_digits\u001b[0m \u001b[0;34m=\u001b[0m \u001b[0;34m''\u001b[0m\u001b[0;34m.\u001b[0m\u001b[0mjoin\u001b[0m\u001b[0;34m(\u001b[0m\u001b[0;34m[\u001b[0m\u001b[0ms\u001b[0m \u001b[0;32mfor\u001b[0m \u001b[0ms\u001b[0m \u001b[0;32min\u001b[0m \u001b[0mscore_str\u001b[0m \u001b[0;32mif\u001b[0m \u001b[0ms\u001b[0m \u001b[0;32min\u001b[0m \u001b[0;34m'0123456789'\u001b[0m\u001b[0;34m]\u001b[0m\u001b[0;34m)\u001b[0m\u001b[0;34m\u001b[0m\u001b[0m\n\u001b[1;32m     72\u001b[0m         \u001b[0mscore\u001b[0m \u001b[0;34m=\u001b[0m \u001b[0mint\u001b[0m\u001b[0;34m(\u001b[0m\u001b[0mscore_digits\u001b[0m\u001b[0;34m)\u001b[0m \u001b[0;32mif\u001b[0m \u001b[0mscore_digits\u001b[0m \u001b[0;34m!=\u001b[0m \u001b[0;34m\"\"\u001b[0m \u001b[0;32melse\u001b[0m \u001b[0mnp\u001b[0m\u001b[0;34m.\u001b[0m\u001b[0mnan\u001b[0m\u001b[0;34m\u001b[0m\u001b[0m\n",
      "\u001b[0;32m/Users/yoshidayuuki/.pyenv/versions/anaconda3-4.2.0/lib/python3.5/site-packages/pytesseract/pytesseract.py\u001b[0m in \u001b[0;36mimage_to_string\u001b[0;34m(image, lang, config, nice, output_type, timeout)\u001b[0m\n\u001b[1;32m    341\u001b[0m         \u001b[0mOutput\u001b[0m\u001b[0;34m.\u001b[0m\u001b[0mDICT\u001b[0m\u001b[0;34m:\u001b[0m \u001b[0;32mlambda\u001b[0m\u001b[0;34m:\u001b[0m \u001b[0;34m{\u001b[0m\u001b[0;34m'text'\u001b[0m\u001b[0;34m:\u001b[0m \u001b[0mrun_and_get_output\u001b[0m\u001b[0;34m(\u001b[0m\u001b[0;34m*\u001b[0m\u001b[0margs\u001b[0m\u001b[0;34m)\u001b[0m\u001b[0;34m}\u001b[0m\u001b[0;34m,\u001b[0m\u001b[0;34m\u001b[0m\u001b[0m\n\u001b[1;32m    342\u001b[0m         \u001b[0mOutput\u001b[0m\u001b[0;34m.\u001b[0m\u001b[0mSTRING\u001b[0m\u001b[0;34m:\u001b[0m \u001b[0;32mlambda\u001b[0m\u001b[0;34m:\u001b[0m \u001b[0mrun_and_get_output\u001b[0m\u001b[0;34m(\u001b[0m\u001b[0;34m*\u001b[0m\u001b[0margs\u001b[0m\u001b[0;34m)\u001b[0m\u001b[0;34m,\u001b[0m\u001b[0;34m\u001b[0m\u001b[0m\n\u001b[0;32m--> 343\u001b[0;31m     }[output_type]()\n\u001b[0m\u001b[1;32m    344\u001b[0m \u001b[0;34m\u001b[0m\u001b[0m\n\u001b[1;32m    345\u001b[0m \u001b[0;34m\u001b[0m\u001b[0m\n",
      "\u001b[0;32m/Users/yoshidayuuki/.pyenv/versions/anaconda3-4.2.0/lib/python3.5/site-packages/pytesseract/pytesseract.py\u001b[0m in \u001b[0;36m<lambda>\u001b[0;34m()\u001b[0m\n\u001b[1;32m    340\u001b[0m         \u001b[0mOutput\u001b[0m\u001b[0;34m.\u001b[0m\u001b[0mBYTES\u001b[0m\u001b[0;34m:\u001b[0m \u001b[0;32mlambda\u001b[0m\u001b[0;34m:\u001b[0m \u001b[0mrun_and_get_output\u001b[0m\u001b[0;34m(\u001b[0m\u001b[0;34m*\u001b[0m\u001b[0;34m(\u001b[0m\u001b[0margs\u001b[0m \u001b[0;34m+\u001b[0m \u001b[0;34m[\u001b[0m\u001b[0;32mTrue\u001b[0m\u001b[0;34m]\u001b[0m\u001b[0;34m)\u001b[0m\u001b[0;34m)\u001b[0m\u001b[0;34m,\u001b[0m\u001b[0;34m\u001b[0m\u001b[0m\n\u001b[1;32m    341\u001b[0m         \u001b[0mOutput\u001b[0m\u001b[0;34m.\u001b[0m\u001b[0mDICT\u001b[0m\u001b[0;34m:\u001b[0m \u001b[0;32mlambda\u001b[0m\u001b[0;34m:\u001b[0m \u001b[0;34m{\u001b[0m\u001b[0;34m'text'\u001b[0m\u001b[0;34m:\u001b[0m \u001b[0mrun_and_get_output\u001b[0m\u001b[0;34m(\u001b[0m\u001b[0;34m*\u001b[0m\u001b[0margs\u001b[0m\u001b[0;34m)\u001b[0m\u001b[0;34m}\u001b[0m\u001b[0;34m,\u001b[0m\u001b[0;34m\u001b[0m\u001b[0m\n\u001b[0;32m--> 342\u001b[0;31m         \u001b[0mOutput\u001b[0m\u001b[0;34m.\u001b[0m\u001b[0mSTRING\u001b[0m\u001b[0;34m:\u001b[0m \u001b[0;32mlambda\u001b[0m\u001b[0;34m:\u001b[0m \u001b[0mrun_and_get_output\u001b[0m\u001b[0;34m(\u001b[0m\u001b[0;34m*\u001b[0m\u001b[0margs\u001b[0m\u001b[0;34m)\u001b[0m\u001b[0;34m,\u001b[0m\u001b[0;34m\u001b[0m\u001b[0m\n\u001b[0m\u001b[1;32m    343\u001b[0m     }[output_type]()\n\u001b[1;32m    344\u001b[0m \u001b[0;34m\u001b[0m\u001b[0m\n",
      "\u001b[0;32m/Users/yoshidayuuki/.pyenv/versions/anaconda3-4.2.0/lib/python3.5/site-packages/pytesseract/pytesseract.py\u001b[0m in \u001b[0;36mrun_and_get_output\u001b[0;34m(image, extension, lang, config, nice, timeout, return_bytes)\u001b[0m\n\u001b[1;32m    249\u001b[0m         }\n\u001b[1;32m    250\u001b[0m \u001b[0;34m\u001b[0m\u001b[0m\n\u001b[0;32m--> 251\u001b[0;31m         \u001b[0mrun_tesseract\u001b[0m\u001b[0;34m(\u001b[0m\u001b[0;34m**\u001b[0m\u001b[0mkwargs\u001b[0m\u001b[0;34m)\u001b[0m\u001b[0;34m\u001b[0m\u001b[0m\n\u001b[0m\u001b[1;32m    252\u001b[0m         \u001b[0mfilename\u001b[0m \u001b[0;34m=\u001b[0m \u001b[0mkwargs\u001b[0m\u001b[0;34m[\u001b[0m\u001b[0;34m'output_filename_base'\u001b[0m\u001b[0;34m]\u001b[0m \u001b[0;34m+\u001b[0m \u001b[0mos\u001b[0m\u001b[0;34m.\u001b[0m\u001b[0mextsep\u001b[0m \u001b[0;34m+\u001b[0m \u001b[0mextension\u001b[0m\u001b[0;34m\u001b[0m\u001b[0m\n\u001b[1;32m    253\u001b[0m         \u001b[0;32mwith\u001b[0m \u001b[0mopen\u001b[0m\u001b[0;34m(\u001b[0m\u001b[0mfilename\u001b[0m\u001b[0;34m,\u001b[0m \u001b[0;34m'rb'\u001b[0m\u001b[0;34m)\u001b[0m \u001b[0;32mas\u001b[0m \u001b[0moutput_file\u001b[0m\u001b[0;34m:\u001b[0m\u001b[0;34m\u001b[0m\u001b[0m\n",
      "\u001b[0;32m/Users/yoshidayuuki/.pyenv/versions/anaconda3-4.2.0/lib/python3.5/site-packages/pytesseract/pytesseract.py\u001b[0m in \u001b[0;36mrun_tesseract\u001b[0;34m(input_filename, output_filename_base, extension, lang, config, nice, timeout)\u001b[0m\n\u001b[1;32m    223\u001b[0m         \u001b[0;32mraise\u001b[0m \u001b[0mTesseractNotFoundError\u001b[0m\u001b[0;34m(\u001b[0m\u001b[0;34m)\u001b[0m\u001b[0;34m\u001b[0m\u001b[0m\n\u001b[1;32m    224\u001b[0m \u001b[0;34m\u001b[0m\u001b[0m\n\u001b[0;32m--> 225\u001b[0;31m     \u001b[0;32mwith\u001b[0m \u001b[0mtimeout_manager\u001b[0m\u001b[0;34m(\u001b[0m\u001b[0mproc\u001b[0m\u001b[0;34m,\u001b[0m \u001b[0mtimeout\u001b[0m\u001b[0;34m)\u001b[0m \u001b[0;32mas\u001b[0m \u001b[0merror_string\u001b[0m\u001b[0;34m:\u001b[0m\u001b[0;34m\u001b[0m\u001b[0m\n\u001b[0m\u001b[1;32m    226\u001b[0m         \u001b[0;32mif\u001b[0m \u001b[0mproc\u001b[0m\u001b[0;34m.\u001b[0m\u001b[0mreturncode\u001b[0m\u001b[0;34m:\u001b[0m\u001b[0;34m\u001b[0m\u001b[0m\n\u001b[1;32m    227\u001b[0m             \u001b[0;32mraise\u001b[0m \u001b[0mTesseractError\u001b[0m\u001b[0;34m(\u001b[0m\u001b[0mproc\u001b[0m\u001b[0;34m.\u001b[0m\u001b[0mreturncode\u001b[0m\u001b[0;34m,\u001b[0m \u001b[0mget_errors\u001b[0m\u001b[0;34m(\u001b[0m\u001b[0merror_string\u001b[0m\u001b[0;34m)\u001b[0m\u001b[0;34m)\u001b[0m\u001b[0;34m\u001b[0m\u001b[0m\n",
      "\u001b[0;32m/Users/yoshidayuuki/.pyenv/versions/anaconda3-4.2.0/lib/python3.5/contextlib.py\u001b[0m in \u001b[0;36m__enter__\u001b[0;34m(self)\u001b[0m\n\u001b[1;32m     57\u001b[0m     \u001b[0;32mdef\u001b[0m \u001b[0m__enter__\u001b[0m\u001b[0;34m(\u001b[0m\u001b[0mself\u001b[0m\u001b[0;34m)\u001b[0m\u001b[0;34m:\u001b[0m\u001b[0;34m\u001b[0m\u001b[0m\n\u001b[1;32m     58\u001b[0m         \u001b[0;32mtry\u001b[0m\u001b[0;34m:\u001b[0m\u001b[0;34m\u001b[0m\u001b[0m\n\u001b[0;32m---> 59\u001b[0;31m             \u001b[0;32mreturn\u001b[0m \u001b[0mnext\u001b[0m\u001b[0;34m(\u001b[0m\u001b[0mself\u001b[0m\u001b[0;34m.\u001b[0m\u001b[0mgen\u001b[0m\u001b[0;34m)\u001b[0m\u001b[0;34m\u001b[0m\u001b[0m\n\u001b[0m\u001b[1;32m     60\u001b[0m         \u001b[0;32mexcept\u001b[0m \u001b[0mStopIteration\u001b[0m\u001b[0;34m:\u001b[0m\u001b[0;34m\u001b[0m\u001b[0m\n\u001b[1;32m     61\u001b[0m             \u001b[0;32mraise\u001b[0m \u001b[0mRuntimeError\u001b[0m\u001b[0;34m(\u001b[0m\u001b[0;34m\"generator didn't yield\"\u001b[0m\u001b[0;34m)\u001b[0m \u001b[0;32mfrom\u001b[0m \u001b[0;32mNone\u001b[0m\u001b[0;34m\u001b[0m\u001b[0m\n",
      "\u001b[0;32m/Users/yoshidayuuki/.pyenv/versions/anaconda3-4.2.0/lib/python3.5/site-packages/pytesseract/pytesseract.py\u001b[0m in \u001b[0;36mtimeout_manager\u001b[0;34m(proc, seconds)\u001b[0m\n\u001b[1;32m     93\u001b[0m     \u001b[0;32mtry\u001b[0m\u001b[0;34m:\u001b[0m\u001b[0;34m\u001b[0m\u001b[0m\n\u001b[1;32m     94\u001b[0m         \u001b[0;32mif\u001b[0m \u001b[0;32mnot\u001b[0m \u001b[0mseconds\u001b[0m\u001b[0;34m:\u001b[0m\u001b[0;34m\u001b[0m\u001b[0m\n\u001b[0;32m---> 95\u001b[0;31m             \u001b[0;32myield\u001b[0m \u001b[0mproc\u001b[0m\u001b[0;34m.\u001b[0m\u001b[0mcommunicate\u001b[0m\u001b[0;34m(\u001b[0m\u001b[0;34m)\u001b[0m\u001b[0;34m[\u001b[0m\u001b[0;36m1\u001b[0m\u001b[0;34m]\u001b[0m\u001b[0;34m\u001b[0m\u001b[0m\n\u001b[0m\u001b[1;32m     96\u001b[0m             \u001b[0;32mreturn\u001b[0m\u001b[0;34m\u001b[0m\u001b[0m\n\u001b[1;32m     97\u001b[0m \u001b[0;34m\u001b[0m\u001b[0m\n",
      "\u001b[0;32m/Users/yoshidayuuki/.pyenv/versions/anaconda3-4.2.0/lib/python3.5/subprocess.py\u001b[0m in \u001b[0;36mcommunicate\u001b[0;34m(self, input, timeout)\u001b[0m\n\u001b[1;32m   1070\u001b[0m \u001b[0;34m\u001b[0m\u001b[0m\n\u001b[1;32m   1071\u001b[0m             \u001b[0;32mtry\u001b[0m\u001b[0;34m:\u001b[0m\u001b[0;34m\u001b[0m\u001b[0m\n\u001b[0;32m-> 1072\u001b[0;31m                 \u001b[0mstdout\u001b[0m\u001b[0;34m,\u001b[0m \u001b[0mstderr\u001b[0m \u001b[0;34m=\u001b[0m \u001b[0mself\u001b[0m\u001b[0;34m.\u001b[0m\u001b[0m_communicate\u001b[0m\u001b[0;34m(\u001b[0m\u001b[0minput\u001b[0m\u001b[0;34m,\u001b[0m \u001b[0mendtime\u001b[0m\u001b[0;34m,\u001b[0m \u001b[0mtimeout\u001b[0m\u001b[0;34m)\u001b[0m\u001b[0;34m\u001b[0m\u001b[0m\n\u001b[0m\u001b[1;32m   1073\u001b[0m             \u001b[0;32mfinally\u001b[0m\u001b[0;34m:\u001b[0m\u001b[0;34m\u001b[0m\u001b[0m\n\u001b[1;32m   1074\u001b[0m                 \u001b[0mself\u001b[0m\u001b[0;34m.\u001b[0m\u001b[0m_communication_started\u001b[0m \u001b[0;34m=\u001b[0m \u001b[0;32mTrue\u001b[0m\u001b[0;34m\u001b[0m\u001b[0m\n",
      "\u001b[0;32m/Users/yoshidayuuki/.pyenv/versions/anaconda3-4.2.0/lib/python3.5/subprocess.py\u001b[0m in \u001b[0;36m_communicate\u001b[0;34m(self, input, endtime, orig_timeout)\u001b[0m\n\u001b[1;32m   1713\u001b[0m                         \u001b[0;32mraise\u001b[0m \u001b[0mTimeoutExpired\u001b[0m\u001b[0;34m(\u001b[0m\u001b[0mself\u001b[0m\u001b[0;34m.\u001b[0m\u001b[0margs\u001b[0m\u001b[0;34m,\u001b[0m \u001b[0morig_timeout\u001b[0m\u001b[0;34m)\u001b[0m\u001b[0;34m\u001b[0m\u001b[0m\n\u001b[1;32m   1714\u001b[0m \u001b[0;34m\u001b[0m\u001b[0m\n\u001b[0;32m-> 1715\u001b[0;31m                     \u001b[0mready\u001b[0m \u001b[0;34m=\u001b[0m \u001b[0mselector\u001b[0m\u001b[0;34m.\u001b[0m\u001b[0mselect\u001b[0m\u001b[0;34m(\u001b[0m\u001b[0mtimeout\u001b[0m\u001b[0;34m)\u001b[0m\u001b[0;34m\u001b[0m\u001b[0m\n\u001b[0m\u001b[1;32m   1716\u001b[0m                     \u001b[0mself\u001b[0m\u001b[0;34m.\u001b[0m\u001b[0m_check_timeout\u001b[0m\u001b[0;34m(\u001b[0m\u001b[0mendtime\u001b[0m\u001b[0;34m,\u001b[0m \u001b[0morig_timeout\u001b[0m\u001b[0;34m)\u001b[0m\u001b[0;34m\u001b[0m\u001b[0m\n\u001b[1;32m   1717\u001b[0m \u001b[0;34m\u001b[0m\u001b[0m\n",
      "\u001b[0;32m/Users/yoshidayuuki/.pyenv/versions/anaconda3-4.2.0/lib/python3.5/selectors.py\u001b[0m in \u001b[0;36mselect\u001b[0;34m(self, timeout)\u001b[0m\n\u001b[1;32m    374\u001b[0m             \u001b[0mready\u001b[0m \u001b[0;34m=\u001b[0m \u001b[0;34m[\u001b[0m\u001b[0;34m]\u001b[0m\u001b[0;34m\u001b[0m\u001b[0m\n\u001b[1;32m    375\u001b[0m             \u001b[0;32mtry\u001b[0m\u001b[0;34m:\u001b[0m\u001b[0;34m\u001b[0m\u001b[0m\n\u001b[0;32m--> 376\u001b[0;31m                 \u001b[0mfd_event_list\u001b[0m \u001b[0;34m=\u001b[0m \u001b[0mself\u001b[0m\u001b[0;34m.\u001b[0m\u001b[0m_poll\u001b[0m\u001b[0;34m.\u001b[0m\u001b[0mpoll\u001b[0m\u001b[0;34m(\u001b[0m\u001b[0mtimeout\u001b[0m\u001b[0;34m)\u001b[0m\u001b[0;34m\u001b[0m\u001b[0m\n\u001b[0m\u001b[1;32m    377\u001b[0m             \u001b[0;32mexcept\u001b[0m \u001b[0mInterruptedError\u001b[0m\u001b[0;34m:\u001b[0m\u001b[0;34m\u001b[0m\u001b[0m\n\u001b[1;32m    378\u001b[0m                 \u001b[0;32mreturn\u001b[0m \u001b[0mready\u001b[0m\u001b[0;34m\u001b[0m\u001b[0m\n",
      "\u001b[0;31mKeyboardInterrupt\u001b[0m: "
     ]
    }
   ],
   "source": [
    "dt.run()"
   ]
  },
  {
   "cell_type": "markdown",
   "metadata": {},
   "source": [
    "# スコアを読み取る機能の実装が必須．"
   ]
  },
  {
   "cell_type": "code",
   "execution_count": 241,
   "metadata": {
    "collapsed": false
   },
   "outputs": [],
   "source": [
    "import mss, time\n",
    "with mss.mss() as sct:\n",
    "    # ary = np.array(sct.grab(sct.monitors[0])) # full screen\n",
    "    ary = np.array(sct.grab((25,159,158,207))) # left, top, right, bottom\n",
    "    # ary: (height, width, color[BGRA]) uint8\n",
    "# from PIL import Image; Image.fromarray(ary[...,[2,1,0,3]]).show()\n",
    "img = Image.fromarray(ary[...,[2,1,0,3]])"
   ]
  },
  {
   "cell_type": "code",
   "execution_count": 21,
   "metadata": {
    "collapsed": true
   },
   "outputs": [],
   "source": [
    "import pytesseract"
   ]
  },
  {
   "cell_type": "code",
   "execution_count": 28,
   "metadata": {
    "collapsed": false
   },
   "outputs": [],
   "source": [
    "res = pytesseract.image_to_boxes(img, output_type=pytesseract.Output.DICT)"
   ]
  },
  {
   "cell_type": "code",
   "execution_count": 249,
   "metadata": {
    "collapsed": true
   },
   "outputs": [],
   "source": [
    "import pytesseract\n",
    "from PIL import ImageDraw, ImageFont\n",
    "def ocr(PIL_image, config='--oem 1'): # add \"--psm 7\" for one-line\n",
    "    img = copy.deepcopy(PIL_image)\n",
    "    draw = ImageDraw.Draw(img)\n",
    "    font_path = '/System/Library/Fonts/ヒラギノ角ゴシック W0.ttc'\n",
    "    draw.font = ImageFont.truetype(font_path, 20)\n",
    "    res = pytesseract.image_to_boxes(img, lang='eng', output_type=pytesseract.Output.DICT, config=config)\n",
    "    res_t = pytesseract.image_to_string(img, lang='eng', config=config)\n",
    "    for l,t,r,b,c in zip(res['left'], res['top'], res['right'], res['bottom'], res['char']):\n",
    "        draw.rectangle((l,img.height-t,r,img.height-b), outline=(255, 64, 64))\n",
    "        draw.text((r,img.height-b), c, fill=(255, 64, 64))\n",
    "    img.show()\n",
    "    return res_t"
   ]
  },
  {
   "cell_type": "code",
   "execution_count": 250,
   "metadata": {
    "collapsed": false
   },
   "outputs": [
    {
     "data": {
      "text/plain": [
       "'92'"
      ]
     },
     "execution_count": 250,
     "metadata": {},
     "output_type": "execute_result"
    }
   ],
   "source": [
    "ocr(img)"
   ]
  },
  {
   "cell_type": "code",
   "execution_count": 169,
   "metadata": {
    "collapsed": true
   },
   "outputs": [],
   "source": [
    "class A:\n",
    "    def __init__(self):\n",
    "        self.hoge = np.random.randint(114514)\n",
    "        \n",
    "    def save(self, path):\n",
    "        with open(path, 'wb') as f:\n",
    "            pickle.dump(self, f)\n",
    "            \n",
    "    def load(self, path):\n",
    "        with open(path, 'rb') as f:\n",
    "            self.__dict__.update(pickle.load(f).__dict__)"
   ]
  },
  {
   "cell_type": "code",
   "execution_count": 173,
   "metadata": {
    "collapsed": true
   },
   "outputs": [],
   "source": [
    "a = A()"
   ]
  },
  {
   "cell_type": "code",
   "execution_count": 171,
   "metadata": {
    "collapsed": true
   },
   "outputs": [],
   "source": [
    "a.save('tmp.pickle')"
   ]
  },
  {
   "cell_type": "code",
   "execution_count": 176,
   "metadata": {
    "collapsed": false
   },
   "outputs": [
    {
     "data": {
      "text/plain": [
       "70483"
      ]
     },
     "execution_count": 176,
     "metadata": {},
     "output_type": "execute_result"
    }
   ],
   "source": [
    "a.hoge"
   ]
  },
  {
   "cell_type": "code",
   "execution_count": 175,
   "metadata": {
    "collapsed": true
   },
   "outputs": [],
   "source": [
    "a.load('tmp.pickle')"
   ]
  },
  {
   "cell_type": "code",
   "execution_count": null,
   "metadata": {
    "collapsed": true
   },
   "outputs": [],
   "source": []
  }
 ],
 "metadata": {
  "anaconda-cloud": {},
  "kernelspec": {
   "display_name": "Python [conda root]",
   "language": "python",
   "name": "conda-root-py"
  },
  "language_info": {
   "codemirror_mode": {
    "name": "ipython",
    "version": 3
   },
   "file_extension": ".py",
   "mimetype": "text/x-python",
   "name": "python",
   "nbconvert_exporter": "python",
   "pygments_lexer": "ipython3",
   "version": "3.5.2"
  }
 },
 "nbformat": 4,
 "nbformat_minor": 2
}
